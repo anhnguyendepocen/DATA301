{
 "cells": [
  {
   "cell_type": "markdown",
   "metadata": {},
   "source": [
    "# Project Euler: Problem 59"
   ]
  },
  {
   "cell_type": "markdown",
   "metadata": {},
   "source": [
    "https://projecteuler.net/problem=59\n",
    "\n",
    "Each character on a computer is assigned a unique code and the preferred standard is ASCII (American Standard Code for Information Interchange). For example, uppercase A = 65, asterisk (*) = 42, and lowercase k = 107.\n",
    "\n",
    "A modern encryption method is to take a text file, convert the bytes to ASCII, then XOR each byte with a given value, taken from a secret key. The advantage with the XOR function is that using the same encryption key on the cipher text, restores the plain text; for example, 65 XOR 42 = 107, then 107 XOR 42 = 65.\n",
    "\n",
    "For unbreakable encryption, the key is the same length as the plain text message, and the key is made up of random bytes. The user would keep the encrypted message and the encryption key in different locations, and without both \"halves\", it is impossible to decrypt the message.\n",
    "\n",
    "Unfortunately, this method is impractical for most users, so the modified method is to use a password as a key. If the password is shorter than the message, which is likely, the key is repeated cyclically throughout the message. The balance for this method is using a sufficiently long password key for security, but short enough to be memorable.\n",
    "\n",
    "Your task has been made easy, as the encryption key consists of three lower case characters. Using cipher.txt (in this directory), a file containing the encrypted ASCII codes, and the knowledge that the plain text must contain common English words, decrypt the message and find the sum of the ASCII values in the original text."
   ]
  },
  {
   "cell_type": "markdown",
   "metadata": {},
   "source": [
    "The following cell shows examples of how to perform XOR in Python and how to go back and forth between characters and integers:"
   ]
  },
  {
   "cell_type": "code",
   "execution_count": 1,
   "metadata": {
    "collapsed": true,
    "deletable": false,
    "editable": false,
    "nbgrader": {
     "checksum": "2c9303d19a2b6c22658ef4dbde6d63a3",
     "grade": false,
     "grade_id": "projecteuler59a",
     "locked": true,
     "schema_version": 1,
     "solution": false
    }
   },
   "outputs": [],
   "source": [
    "assert 65 ^ 42 == 107\n",
    "assert 107 ^ 42 == 65\n",
    "assert ord('a') == 97\n",
    "assert chr(97) == 'a'"
   ]
  },
  {
   "cell_type": "markdown",
   "metadata": {},
   "source": [
    "Certain functions in the `itertools` module may be useful for computing permutations:"
   ]
  },
  {
   "cell_type": "code",
   "execution_count": 2,
   "metadata": {
    "collapsed": true
   },
   "outputs": [],
   "source": [
    "import itertools"
   ]
  },
  {
   "cell_type": "markdown",
   "metadata": {},
   "source": [
    "opens given cipher and organizes contents into integers in a list"
   ]
  },
  {
   "cell_type": "code",
   "execution_count": 3,
   "metadata": {
    "collapsed": false,
    "deletable": false,
    "nbgrader": {
     "checksum": "ab1a44dadde94517fb804abf1c7b8131",
     "grade": true,
     "grade_id": "projecteuler59b",
     "locked": false,
     "points": 10,
     "schema_version": 1,
     "solution": true
    }
   },
   "outputs": [],
   "source": [
    "file = open('data/cipher.txt')"
   ]
  },
  {
   "cell_type": "code",
   "execution_count": 4,
   "metadata": {
    "collapsed": false
   },
   "outputs": [],
   "source": [
    "cipher = file.read().split(',')"
   ]
  },
  {
   "cell_type": "code",
   "execution_count": 5,
   "metadata": {
    "collapsed": true
   },
   "outputs": [],
   "source": [
    "#lowercase ASCII is a:97 = z:122"
   ]
  },
  {
   "cell_type": "code",
   "execution_count": 6,
   "metadata": {
    "collapsed": false
   },
   "outputs": [],
   "source": [
    "cipher = [int(i) for i in cipher]"
   ]
  },
  {
   "cell_type": "markdown",
   "metadata": {
    "collapsed": false
   },
   "source": [
    "tests encrypt and decrypt methods on small datafile to ensure functionality"
   ]
  },
  {
   "cell_type": "code",
   "execution_count": 7,
   "metadata": {
    "collapsed": false
   },
   "outputs": [
    {
     "name": "stdout",
     "output_type": "stream",
     "text": [
      "[105, 102, 32, 116, 104, 101, 32, 99, 97, 116, 32, 105, 115, 32, 111, 110, 32, 116, 104, 101, 32, 109, 97, 116, 32, 116, 104, 101, 110, 32, 116, 104, 97, 116, 32, 105, 115, 32, 103, 114, 101, 97, 116]\n"
     ]
    }
   ],
   "source": [
    "test = open('data/test.txt')\n",
    "testL = [ord(i) for i in str(test.read())]\n",
    "print(testL)"
   ]
  },
  {
   "cell_type": "code",
   "execution_count": 8,
   "metadata": {
    "collapsed": true
   },
   "outputs": [],
   "source": [
    "def encrypt(plainText, x, y, z):\n",
    "    key = [x, y, z]\n",
    "    eL = []\n",
    "    for i, j in zip(plainText, itertools.cycle(key)):\n",
    "        print(chr(i^j), end='')\n",
    "        eL.append(j^i)\n",
    "    return eL"
   ]
  },
  {
   "cell_type": "code",
   "execution_count": 9,
   "metadata": {
    "collapsed": true
   },
   "outputs": [],
   "source": [
    "def decrypt(encryptedList, x, y, z):\n",
    "    key = [x, y, z]\n",
    "    dL = []\n",
    "    for i, j in zip(encryptedList, itertools.cycle(key)):\n",
    "        #print(chr(i^j), end='')\n",
    "        dL.append(i^j)\n",
    "    return dL"
   ]
  },
  {
   "cell_type": "code",
   "execution_count": 10,
   "metadata": {
    "collapsed": false
   },
   "outputs": [
    {
     "name": "stdout",
     "output_type": "stream",
     "text": [
      "\b\u0002W\u0015\f",
      "\u0012A\u0007\u0016\u0015D\u001e",
      "\u0012D\u0018\u000fD\u0003\t\u0001W\f",
      "\u0005\u0003A\u0010\u001f\u0004\n",
      "W\u0015\f",
      "\u0016\u0015D\u001e",
      "\u0012D\u0010\u0013\u0001\u0016\u0015"
     ]
    }
   ],
   "source": [
    "eL = encrypt(testL, 97, 100, 119)"
   ]
  },
  {
   "cell_type": "code",
   "execution_count": 11,
   "metadata": {
    "collapsed": false
   },
   "outputs": [],
   "source": [
    "dL1 = decrypt(eL, 97, 101, 119)"
   ]
  },
  {
   "cell_type": "code",
   "execution_count": 12,
   "metadata": {
    "collapsed": false
   },
   "outputs": [],
   "source": [
    "dL2 = decrypt(eL, 97, 100, 119)"
   ]
  },
  {
   "cell_type": "markdown",
   "metadata": {},
   "source": [
    "converts from numbered list to list of words"
   ]
  },
  {
   "cell_type": "code",
   "execution_count": 13,
   "metadata": {
    "collapsed": true
   },
   "outputs": [],
   "source": [
    "def convertToText(dL):\n",
    "    dL = [chr(i) for i in dL]\n",
    "    dL = ''.join(dL)\n",
    "    dL = dL.split()\n",
    "    return dL"
   ]
  },
  {
   "cell_type": "code",
   "execution_count": 14,
   "metadata": {
    "collapsed": true
   },
   "outputs": [],
   "source": [
    "dL1 = convertToText(dL1)\n",
    "dL2 = convertToText(dL2)"
   ]
  },
  {
   "cell_type": "markdown",
   "metadata": {},
   "source": [
    "tests checkDecrypt which looks for common english words to signal decrypted file"
   ]
  },
  {
   "cell_type": "code",
   "execution_count": 15,
   "metadata": {
    "collapsed": true
   },
   "outputs": [],
   "source": [
    "def checkDecrypt(dL):\n",
    "    decrypted = False\n",
    "    correct = 0\n",
    "    common = ['if', 'the', 'is', 'a', 'then', 'that']    \n",
    "    for word in dL:\n",
    "        for expr in common:\n",
    "            if word == expr:\n",
    "                correct += 1\n",
    "    if correct > 10:\n",
    "        decrypted = True\n",
    "    return decrypted"
   ]
  },
  {
   "cell_type": "code",
   "execution_count": 16,
   "metadata": {
    "collapsed": false
   },
   "outputs": [],
   "source": [
    "if checkDecrypt(dL1):\n",
    "    dL1 = ' '.join(dL1)\n",
    "    print(dL1)"
   ]
  },
  {
   "cell_type": "code",
   "execution_count": 17,
   "metadata": {
    "collapsed": false
   },
   "outputs": [],
   "source": [
    "if checkDecrypt(dL2):\n",
    "    dL2 = ' '.join(dL2)\n",
    "    print(dL2)"
   ]
  },
  {
   "cell_type": "markdown",
   "metadata": {},
   "source": [
    "now, back to the Euler problem"
   ]
  },
  {
   "cell_type": "code",
   "execution_count": 18,
   "metadata": {
    "collapsed": false
   },
   "outputs": [],
   "source": [
    "def eul59(cipher):\n",
    "    x=97; y=97; z=97\n",
    "    for x in range(97, 123):\n",
    "        for y in range(97, 123):\n",
    "            for z in range(97, 123):\n",
    "                dC = decrypt(cipher, x, y, z)\n",
    "                cipherC = sum(dC)\n",
    "                dC = convertToText(dC)\n",
    "                if checkDecrypt(dC):\n",
    "                    print(\"The key is: {}, {}, {} AKA {}, {}, {}\".format(x, y , z, chr(x), chr(y), chr(z)))\n",
    "                    return dC, cipherC"
   ]
  },
  {
   "cell_type": "code",
   "execution_count": 19,
   "metadata": {
    "collapsed": false
   },
   "outputs": [
    {
     "name": "stdout",
     "output_type": "stream",
     "text": [
      "The key is: 103, 111, 100 AKA g, o, d\n"
     ]
    }
   ],
   "source": [
    "dC, cipherC = eul59(cipher)"
   ]
  },
  {
   "cell_type": "code",
   "execution_count": 20,
   "metadata": {
    "collapsed": false
   },
   "outputs": [],
   "source": [
    "dC = ' '.join(dC)"
   ]
  },
  {
   "cell_type": "code",
   "execution_count": 21,
   "metadata": {
    "collapsed": false
   },
   "outputs": [
    {
     "name": "stdout",
     "output_type": "stream",
     "text": [
      "(The Gospel of John, chapter 1) 1 In the beginning the Word already existed. He was with God, and he was God. 2 He was in the beginning with God. 3 He created everything there is. Nothing exists that he didn't make. 4 Life itself was in him, and this life gives light to everyone. 5 The light shines through the darkness, and the darkness can never extinguish it. 6 God sent John the Baptist 7 to tell everyone about the light so that everyone might believe because of his testimony. 8 John himself was not the light; he was only a witness to the light. 9 The one who is the true light, who gives light to everyone, was going to come into the world. 10 But although the world was made through him, the world didn't recognize him when he came. 11 Even in his own land and among his own people, he was not accepted. 12 But to all who believed him and accepted him, he gave the right to become children of God. 13 They are reborn! This is not a physical birth resulting from human passion or plan, this rebirth comes from God.14 So the Word became human and lived here on earth among us. He was full of unfailing love and faithfulness. And we have seen his glory, the glory of the only Son of the Father.\n",
      "\n",
      "\n",
      "Final count of cipher ASCII values is: 107359\n"
     ]
    }
   ],
   "source": [
    "print(dC)\n",
    "print('\\n')\n",
    "print(\"Final count of cipher ASCII values is: {}\".format(cipherC))"
   ]
  },
  {
   "cell_type": "code",
   "execution_count": null,
   "metadata": {
    "collapsed": true
   },
   "outputs": [],
   "source": []
  }
 ],
 "metadata": {
  "kernelspec": {
   "display_name": "Python 3",
   "language": "python",
   "name": "python3"
  },
  "language_info": {
   "codemirror_mode": {
    "name": "ipython",
    "version": 3
   },
   "file_extension": ".py",
   "mimetype": "text/x-python",
   "name": "python",
   "nbconvert_exporter": "python",
   "pygments_lexer": "ipython3",
   "version": "3.5.2"
  }
 },
 "nbformat": 4,
 "nbformat_minor": 0
}
