{
 "cells": [
  {
   "cell_type": "markdown",
   "metadata": {},
   "source": [
    "# JSON Exercises"
   ]
  },
  {
   "cell_type": "markdown",
   "metadata": {},
   "source": [
    "## Imports"
   ]
  },
  {
   "cell_type": "code",
   "execution_count": 1,
   "metadata": {
    "collapsed": false
   },
   "outputs": [],
   "source": [
    "import numpy as np\n",
    "import pandas as pd\n",
    "from altair import *"
   ]
  },
  {
   "cell_type": "markdown",
   "metadata": {},
   "source": [
    "## Using JSON to find your location"
   ]
  },
  {
   "cell_type": "markdown",
   "metadata": {},
   "source": [
    "In this exercises you will make an HTTP request to a service that returns your location as JSON data by looking at your IP address.\n",
    "\n",
    "1. Read the documentation of the Python `requests` library [here](http://docs.python-requests.org/en/latest/) to learn how to make an HTTP `GET` request. A `GET` request is the most basic way of downloading something from the web. Your web browser does this everytime you visit a page.\n",
    "2. Find the right URL to make a JSON GeoIP request from this service: https://freegeoip.net\n",
    "3. Make the request using `request.get`, and parse the `.text` attribute of the response using `json.loads`.\n",
    "4. Write a function, `find_location` that takes a hostname (such as `google.com`) and returns a tuple of the lattitude and longitude."
   ]
  },
  {
   "cell_type": "code",
   "execution_count": 2,
   "metadata": {
    "collapsed": false,
    "deletable": false,
    "editable": false,
    "nbgrader": {
     "checksum": "32d59697e3d5900655b7dbed8bbdb0c7",
     "grade": false,
     "grade_id": "json-a",
     "locked": true,
     "schema_version": 1,
     "solution": false
    }
   },
   "outputs": [],
   "source": [
    "import requests\n",
    "import json"
   ]
  },
  {
   "cell_type": "code",
   "execution_count": 3,
   "metadata": {
    "collapsed": false,
    "deletable": false,
    "nbgrader": {
     "checksum": "c39444c5fe4ac370292c4978f3bb92cc",
     "grade": false,
     "grade_id": "json-b",
     "locked": false,
     "schema_version": 1,
     "solution": true
    }
   },
   "outputs": [],
   "source": [
    "def find_location(host):\n",
    "    \"\"\"Find the (lat, lon) given hostname (google.com) using a GeoIP service.\"\"\"\n",
    "    loc = requests.get(\"https://freegeoip.net/json/\" + host)\n",
    "    data = json.loads(loc.text)\n",
    "    lat = data['latitude']\n",
    "    lon = data['longitude'] \n",
    "    return lat, lon"
   ]
  },
  {
   "cell_type": "code",
   "execution_count": 4,
   "metadata": {
    "collapsed": false
   },
   "outputs": [
    {
     "name": "stdout",
     "output_type": "stream",
     "text": [
      "37.4192\n",
      "-122.0574\n"
     ]
    }
   ],
   "source": [
    "lat, lon = find_location('google.com')\n",
    "print(lat)\n",
    "print(lon)"
   ]
  },
  {
   "cell_type": "code",
   "execution_count": 5,
   "metadata": {
    "collapsed": false,
    "deletable": false,
    "editable": false,
    "nbgrader": {
     "checksum": "b09b4c286f7891b2b2c06af1696fb6ae",
     "grade": true,
     "grade_id": "json-c",
     "locked": true,
     "points": 4,
     "schema_version": 1,
     "solution": false
    }
   },
   "outputs": [],
   "source": [
    "assert find_location('calpoly.edu')==(35.3471, -120.4553)\n",
    "assert find_location('github.com')==(37.7697, -122.3933)"
   ]
  },
  {
   "cell_type": "markdown",
   "metadata": {},
   "source": [
    "## California home prices using Quandl"
   ]
  },
  {
   "cell_type": "markdown",
   "metadata": {},
   "source": [
    "The website http://quandl.com is an absolutely spectacular source of open data. It provides millions of data sets, on a wide range of topics in a range of formats (CSV, JSON, Excel). For the purpose of this exercise you are going to learn how to search Quandl for a data set and then load that data set into a `DataFrame` using `requests`.\n",
    "\n",
    "1. Find a dataset of the rental prices (all homes) in the city of San Luis Obispo. You will need to create a Quandl account (you can use your GitHub credentials). This data is part of the Zillow dataset on Quandl.\n",
    "2. Click on the JSON button and copy the URL that is shown into a Python variable named `url`.\n",
    "3. Make an HTTP `GET` request to that URL using `requests`.\n",
    "4. Parse the resulting JSON data and look at it.\n",
    "5. Create a `DataFrame` with the `Date` and `Value` columns from the JSON data.\n",
    "6. Save the `DataFrame` in the variable `data`."
   ]
  },
  {
   "cell_type": "code",
   "execution_count": 6,
   "metadata": {
    "collapsed": true
   },
   "outputs": [],
   "source": [
    "#pd.DataFrame?"
   ]
  },
  {
   "cell_type": "code",
   "execution_count": 7,
   "metadata": {
    "collapsed": false,
    "deletable": false,
    "nbgrader": {
     "checksum": "37a9ea3e1cdc9d618938eee5ca5da0c8",
     "grade": false,
     "grade_id": "json-d",
     "locked": false,
     "schema_version": 1,
     "solution": true
    }
   },
   "outputs": [
    {
     "data": {
      "text/html": [
       "<div>\n",
       "<table border=\"1\" class=\"dataframe\">\n",
       "  <thead>\n",
       "    <tr style=\"text-align: right;\">\n",
       "      <th></th>\n",
       "      <th>Date</th>\n",
       "      <th>Value</th>\n",
       "    </tr>\n",
       "  </thead>\n",
       "  <tbody>\n",
       "    <tr>\n",
       "      <th>0</th>\n",
       "      <td>2015-09-30</td>\n",
       "      <td>2494.0</td>\n",
       "    </tr>\n",
       "    <tr>\n",
       "      <th>1</th>\n",
       "      <td>2015-08-31</td>\n",
       "      <td>2535.0</td>\n",
       "    </tr>\n",
       "    <tr>\n",
       "      <th>2</th>\n",
       "      <td>2015-07-31</td>\n",
       "      <td>2522.0</td>\n",
       "    </tr>\n",
       "    <tr>\n",
       "      <th>3</th>\n",
       "      <td>2015-06-30</td>\n",
       "      <td>2503.0</td>\n",
       "    </tr>\n",
       "    <tr>\n",
       "      <th>4</th>\n",
       "      <td>2015-05-31</td>\n",
       "      <td>2504.0</td>\n",
       "    </tr>\n",
       "  </tbody>\n",
       "</table>\n",
       "</div>"
      ],
      "text/plain": [
       "         Date   Value\n",
       "0  2015-09-30  2494.0\n",
       "1  2015-08-31  2535.0\n",
       "2  2015-07-31  2522.0\n",
       "3  2015-06-30  2503.0\n",
       "4  2015-05-31  2504.0"
      ]
     },
     "execution_count": 7,
     "metadata": {},
     "output_type": "execute_result"
    }
   ],
   "source": [
    "url = 'https://www.quandl.com/api/v3/datasets/ZILL/C00540_RAH.json?api_key=BXk9dX6vzLtQ2JBzTCcB'\n",
    "urlResp = requests.get(url)\n",
    "urlDict = urlResp.json()\n",
    "dataset = urlDict['dataset']\n",
    "data = pd.DataFrame(dataset['data'], columns=['Date', 'Value'])\n",
    "data.head()"
   ]
  },
  {
   "cell_type": "code",
   "execution_count": 8,
   "metadata": {
    "collapsed": false,
    "deletable": false,
    "editable": false,
    "nbgrader": {
     "checksum": "cf364c6684922b2a1bfd0d26d5a77e25",
     "grade": true,
     "grade_id": "json-e",
     "locked": true,
     "points": 4,
     "schema_version": 1,
     "solution": false
    }
   },
   "outputs": [],
   "source": [
    "assert url.startswith('https://www.quandl.com/api/v3/datasets/ZILL')\n",
    "assert isinstance(data, pd.DataFrame)\n",
    "assert list(data.columns)==['Date', 'Value']\n",
    "assert len(data)>50"
   ]
  },
  {
   "cell_type": "markdown",
   "metadata": {},
   "source": [
    "Create an Altair line chart that shows how rental prices are changing over time (over years and months):"
   ]
  },
  {
   "cell_type": "code",
   "execution_count": 9,
   "metadata": {
    "collapsed": false,
    "deletable": false,
    "nbgrader": {
     "checksum": "f6f5b0b15548df214aeda9c8863bcba8",
     "grade": true,
     "grade_id": "json-f",
     "locked": false,
     "points": 2,
     "schema_version": 1,
     "solution": true
    }
   },
   "outputs": [
    {
     "data": {
      "text/html": [
       "<div class=\"vega-embed\" id=\"297d68c1-74b2-44c1-8ee2-453ba28a218f\"></div>\n",
       "\n",
       "<style>\n",
       ".vega-embed svg, .vega-embed canvas {\n",
       "  border: 1px dotted gray;\n",
       "}\n",
       "\n",
       ".vega-embed .vega-actions a {\n",
       "  margin-right: 6px;\n",
       "}\n",
       "</style>\n"
      ]
     },
     "metadata": {
      "jupyter-vega": "#297d68c1-74b2-44c1-8ee2-453ba28a218f"
     },
     "output_type": "display_data"
    },
    {
     "data": {
      "application/javascript": [
       "var spec = {\"config\": {\"cell\": {\"width\": 500, \"height\": 350}}, \"data\": {\"values\": [{\"Date\": \"2015-09-30\", \"Value\": 2494.0}, {\"Date\": \"2015-08-31\", \"Value\": 2535.0}, {\"Date\": \"2015-07-31\", \"Value\": 2522.0}, {\"Date\": \"2015-06-30\", \"Value\": 2503.0}, {\"Date\": \"2015-05-31\", \"Value\": 2504.0}, {\"Date\": \"2015-04-30\", \"Value\": 2503.0}, {\"Date\": \"2015-03-31\", \"Value\": 2456.0}, {\"Date\": \"2015-02-28\", \"Value\": 2359.0}, {\"Date\": \"2015-01-31\", \"Value\": 2343.0}, {\"Date\": \"2014-12-31\", \"Value\": 2355.0}, {\"Date\": \"2014-11-30\", \"Value\": 2359.0}, {\"Date\": \"2014-10-31\", \"Value\": 2305.0}, {\"Date\": \"2014-09-30\", \"Value\": 2250.0}, {\"Date\": \"2014-08-31\", \"Value\": 2219.0}, {\"Date\": \"2014-07-31\", \"Value\": 2196.0}, {\"Date\": \"2014-06-30\", \"Value\": 2161.0}, {\"Date\": \"2014-05-31\", \"Value\": 2118.0}, {\"Date\": \"2014-04-30\", \"Value\": 2025.0}, {\"Date\": \"2014-03-31\", \"Value\": 1989.0}, {\"Date\": \"2014-02-28\", \"Value\": 2064.0}, {\"Date\": \"2014-01-31\", \"Value\": 2077.0}, {\"Date\": \"2013-12-31\", \"Value\": 2055.0}, {\"Date\": \"2013-11-30\", \"Value\": 1942.0}, {\"Date\": \"2013-10-31\", \"Value\": 1981.0}, {\"Date\": \"2013-09-30\", \"Value\": 2042.0}, {\"Date\": \"2013-08-31\", \"Value\": 2097.0}, {\"Date\": \"2013-07-31\", \"Value\": 2127.0}, {\"Date\": \"2013-06-30\", \"Value\": 2115.0}, {\"Date\": \"2013-05-31\", \"Value\": 2152.0}, {\"Date\": \"2013-04-30\", \"Value\": 2213.0}, {\"Date\": \"2013-03-31\", \"Value\": 2263.0}, {\"Date\": \"2013-02-28\", \"Value\": 2133.0}, {\"Date\": \"2013-01-31\", \"Value\": 2002.0}, {\"Date\": \"2012-12-31\", \"Value\": 1882.0}, {\"Date\": \"2012-11-30\", \"Value\": 1968.0}, {\"Date\": \"2012-10-31\", \"Value\": 2020.0}, {\"Date\": \"2012-09-30\", \"Value\": 2026.0}, {\"Date\": \"2012-08-31\", \"Value\": 1979.0}, {\"Date\": \"2012-07-31\", \"Value\": 1976.0}, {\"Date\": \"2012-06-30\", \"Value\": 2004.0}, {\"Date\": \"2012-05-31\", \"Value\": 1986.0}, {\"Date\": \"2012-04-30\", \"Value\": 1971.0}, {\"Date\": \"2012-03-31\", \"Value\": 1913.0}, {\"Date\": \"2012-02-29\", \"Value\": 1897.0}, {\"Date\": \"2012-01-31\", \"Value\": 1921.0}, {\"Date\": \"2011-12-31\", \"Value\": 1980.0}, {\"Date\": \"2011-11-30\", \"Value\": 2011.0}, {\"Date\": \"2011-10-31\", \"Value\": 1985.0}, {\"Date\": \"2011-09-30\", \"Value\": 1934.0}, {\"Date\": \"2011-08-31\", \"Value\": 1923.0}, {\"Date\": \"2011-07-31\", \"Value\": 1899.0}, {\"Date\": \"2011-06-30\", \"Value\": 1896.0}, {\"Date\": \"2011-05-31\", \"Value\": 1898.0}, {\"Date\": \"2011-04-30\", \"Value\": 1925.0}, {\"Date\": \"2011-03-31\", \"Value\": 1953.0}, {\"Date\": \"2011-02-28\", \"Value\": 2016.0}, {\"Date\": \"2011-01-31\", \"Value\": 2110.0}, {\"Date\": \"2010-12-31\", \"Value\": 2154.0}, {\"Date\": \"2010-11-30\", \"Value\": 2107.0}]}, \"encoding\": {\"x\": {\"field\": \"Date\", \"type\": \"temporal\", \"timeUnit\": \"yearmonth\", \"title\": \"Months\", \"axis\": {\"ticks\": 10.0}}, \"y\": {\"field\": \"Value\", \"type\": \"quantitative\", \"title\": \"Rental Prices\"}}, \"mark\": \"line\"};\n",
       "var selector = \"#297d68c1-74b2-44c1-8ee2-453ba28a218f\";\n",
       "var type = \"vega-lite\";\n",
       "\n",
       "var output_area = this;\n",
       "require(['nbextensions/jupyter-vega/index'], function(vega) {\n",
       "  vega.render(selector, spec, type, output_area);\n",
       "}, function (err) {\n",
       "  if (err.requireType !== 'scripterror') {\n",
       "    throw(err);\n",
       "  }\n",
       "});\n"
      ]
     },
     "metadata": {
      "jupyter-vega": "#297d68c1-74b2-44c1-8ee2-453ba28a218f"
     },
     "output_type": "display_data"
    },
    {
     "data": {
      "image/png": "[encoded data removed]"
     },
     "metadata": {
      "jupyter-vega": "#297d68c1-74b2-44c1-8ee2-453ba28a218f"
     },
     "output_type": "display_data"
    }
   ],
   "source": [
    "Chart(data).mark_line().encode(\n",
    "    X('Date:T', title='Months', timeUnit='yearmonth', axis=Axis(ticks=10)),\n",
    "    Y('Value:Q', title='Rental Prices')\n",
    ")"
   ]
  },
  {
   "cell_type": "code",
   "execution_count": null,
   "metadata": {
    "collapsed": true
   },
   "outputs": [],
   "source": []
  }
 ],
 "metadata": {
  "kernelspec": {
   "display_name": "Python 3",
   "language": "python",
   "name": "python3"
  },
  "language_info": {
   "codemirror_mode": {
    "name": "ipython",
    "version": 3
   },
   "file_extension": ".py",
   "mimetype": "text/x-python",
   "name": "python",
   "nbconvert_exporter": "python",
   "pygments_lexer": "ipython3",
   "version": "3.5.2"
  }
 },
 "nbformat": 4,
 "nbformat_minor": 0
}
