{
 "cells": [
  {
   "cell_type": "markdown",
   "metadata": {},
   "source": [
    "# Bootstrapped Line Fitting"
   ]
  },
  {
   "cell_type": "markdown",
   "metadata": {},
   "source": [
    "In this notebook, you will use bootstrapping to estimate the uncertainty in the slope and intercept of a line fit to data."
   ]
  },
  {
   "cell_type": "markdown",
   "metadata": {},
   "source": [
    "## Imports"
   ]
  },
  {
   "cell_type": "code",
   "execution_count": 1,
   "metadata": {
    "collapsed": true
   },
   "outputs": [],
   "source": [
    "import numpy as np\n",
    "from matplotlib import pyplot as plt\n",
    "%matplotlib inline"
   ]
  },
  {
   "cell_type": "markdown",
   "metadata": {},
   "source": [
    "## Generative Model"
   ]
  },
  {
   "cell_type": "markdown",
   "metadata": {},
   "source": [
    "We start with a generative model:\n",
    "\n",
    "$$\n",
    "x \\sim U(10,20)\n",
    "$$\n",
    "\n",
    "$$\n",
    "y \\sim w x + b + N(0,\\sigma^2)\n",
    "$$\n",
    "\n",
    "Here are the input parameters we are going to use for this model."
   ]
  },
  {
   "cell_type": "code",
   "execution_count": 18,
   "metadata": {
    "collapsed": true,
    "deletable": false,
    "editable": false,
    "nbgrader": {
     "checksum": "f3ac1afc23948643f5e8f9b779bd6589",
     "grade": false,
     "grade_id": "bootstrap-line-a",
     "locked": true,
     "schema_version": 1,
     "solution": false
    }
   },
   "outputs": [],
   "source": [
    "w = 0.75\n",
    "b = 3.5\n",
    "sigma = 0.5 # uncertainty of each point"
   ]
  },
  {
   "cell_type": "markdown",
   "metadata": {},
   "source": [
    "Generate two NumPy arrays of 50 points for this model. Store these values in the arrays `x` and `y`:"
   ]
  },
  {
   "cell_type": "code",
   "execution_count": 19,
   "metadata": {
    "collapsed": false,
    "deletable": false,
    "nbgrader": {
     "checksum": "2570592c1fd78bd691befae7cceb2f93",
     "grade": true,
     "grade_id": "bootstrap-line-b",
     "locked": false,
     "points": 2,
     "schema_version": 1,
     "solution": true
    }
   },
   "outputs": [],
   "source": [
    "N = 50 # number of points for model\n",
    "np.random.seed(0)\n",
    "# x ~ U(10, 20)\n",
    "x = 10 * np.random.uniform(10.0, 20.0, size=N)\n",
    "# y ~ wx + b + N(0, sigma^2)\n",
    "y = w*x + b + np.random.normal(0.0, sigma**2, size=N) # our errors are additive"
   ]
  },
  {
   "cell_type": "markdown",
   "metadata": {},
   "source": [
    "Make an appropriately labeled scatter plot of the `x` and `y` data. You should see fluctuations around a straight line. If you don't, you forgot to pass the `size` argument to `np.random.normal` when generating your data above."
   ]
  },
  {
   "cell_type": "code",
   "execution_count": 20,
   "metadata": {
    "collapsed": false,
    "deletable": false,
    "nbgrader": {
     "checksum": "25a0fd11dcf013e8afdb0bb7d03c1e7d",
     "grade": true,
     "grade_id": "bootstrap-line-c",
     "locked": false,
     "points": 2,
     "schema_version": 1,
     "solution": true
    }
   },
   "outputs": [
    {
     "data": {
      "image/png": "[encoded data removed]",
      "text/plain": [
       "<matplotlib.figure.Figure at 0x7f9adaf96940>"
      ]
     },
     "metadata": {},
     "output_type": "display_data"
    }
   ],
   "source": [
    "plt.scatter(x, y)\n",
    "plt.xlabel('x')\n",
    "plt.ylabel('y')\n",
    "plt.grid(True, alpha=0.4);"
   ]
  },
  {
   "cell_type": "markdown",
   "metadata": {},
   "source": [
    "## Fitting the model"
   ]
  },
  {
   "cell_type": "code",
   "execution_count": 21,
   "metadata": {
    "collapsed": false,
    "deletable": false,
    "editable": false,
    "nbgrader": {
     "checksum": "a76f1f03b08cf1f99d0b9c6f94fa94ab",
     "grade": false,
     "grade_id": "bootstrap-line-d",
     "locked": true,
     "schema_version": 1,
     "solution": false
    }
   },
   "outputs": [],
   "source": [
    "from scipy.optimize import minimize"
   ]
  },
  {
   "cell_type": "markdown",
   "metadata": {},
   "source": [
    "Write a function that computes the MSE for the model $y_{model}(x) = w x + b$:"
   ]
  },
  {
   "cell_type": "code",
   "execution_count": 22,
   "metadata": {
    "collapsed": true,
    "deletable": false,
    "nbgrader": {
     "checksum": "8631ccdb9b2d62563aa3fd17b654cdff",
     "grade": true,
     "grade_id": "bootstrap-line-e",
     "locked": false,
     "points": 2,
     "schema_version": 1,
     "solution": true
    }
   },
   "outputs": [],
   "source": [
    "def mse(theta, x, y):\n",
    "    \"\"\"Compute the mean squared error (MSE) for our model.\n",
    "    \n",
    "    Parameters\n",
    "    ----------\n",
    "    theta: array, list, tuple\n",
    "        The array of model parameters [w, b].\n",
    "    x: np.array\n",
    "        The observed x data.\n",
    "    y: np.array\n",
    "        The observed y data.\n",
    "\n",
    "    \"\"\"\n",
    "    w = theta[0]\n",
    "    b = theta[1]\n",
    "    return np.sum((y - b - w*x) ** 2)/(len(x)-len(theta))"
   ]
  },
  {
   "cell_type": "markdown",
   "metadata": {},
   "source": [
    "Write a function that uses `scipy.optimize.minimize` to minimize the above MSE to find the best value of theta."
   ]
  },
  {
   "cell_type": "code",
   "execution_count": 23,
   "metadata": {
    "collapsed": false,
    "deletable": false,
    "nbgrader": {
     "checksum": "e4b7974d3863f0da2238665ca9d70c64",
     "grade": true,
     "grade_id": "bootstrap-line-f",
     "locked": false,
     "points": 2,
     "schema_version": 1,
     "solution": true
    }
   },
   "outputs": [],
   "source": [
    "def fit(x, y):\n",
    "    \"\"\"Fit our model to observed data and return the best values of theta = [w, b].\"\"\"\n",
    "    "
   ]
  },
  {
   "cell_type": "markdown",
   "metadata": {},
   "source": [
    "Here are the estimated model parameters. These should be close to the true values we used to generate the data:"
   ]
  },
  {
   "cell_type": "code",
   "execution_count": 8,
   "metadata": {
    "collapsed": false,
    "deletable": false,
    "editable": false,
    "nbgrader": {
     "checksum": "7637b65a30686d418f2f78ba15168b04",
     "grade": false,
     "grade_id": "bootstrap-line-g",
     "locked": true,
     "schema_version": 1,
     "solution": false
    }
   },
   "outputs": [
    {
     "ename": "NotImplementedError",
     "evalue": "",
     "output_type": "error",
     "traceback": [
      "\u001b[0;31m---------------------------------------------------------------------------\u001b[0m",
      "\u001b[0;31mNotImplementedError\u001b[0m                       Traceback (most recent call last)",
      "\u001b[0;32m<ipython-input-8-5b5708429f42>\u001b[0m in \u001b[0;36m<module>\u001b[0;34m()\u001b[0m\n\u001b[0;32m----> 1\u001b[0;31m \u001b[0mw_hat\u001b[0m\u001b[0;34m,\u001b[0m \u001b[0mb_hat\u001b[0m \u001b[0;34m=\u001b[0m \u001b[0mfit\u001b[0m\u001b[0;34m(\u001b[0m\u001b[0mx\u001b[0m\u001b[0;34m,\u001b[0m\u001b[0my\u001b[0m\u001b[0;34m)\u001b[0m\u001b[0;34m\u001b[0m\u001b[0m\n\u001b[0m\u001b[1;32m      2\u001b[0m \u001b[0mw_hat\u001b[0m\u001b[0;34m,\u001b[0m \u001b[0mb_hat\u001b[0m\u001b[0;34m\u001b[0m\u001b[0m\n",
      "\u001b[0;32m<ipython-input-7-4a4676e4eb41>\u001b[0m in \u001b[0;36mfit\u001b[0;34m(x, y)\u001b[0m\n\u001b[1;32m      2\u001b[0m     \u001b[0;34m\"\"\"Fit our model to observed data and return the best values of theta = [w, b].\"\"\"\u001b[0m\u001b[0;34m\u001b[0m\u001b[0m\n\u001b[1;32m      3\u001b[0m     \u001b[0;31m# YOUR CODE HERE\u001b[0m\u001b[0;34m\u001b[0m\u001b[0;34m\u001b[0m\u001b[0m\n\u001b[0;32m----> 4\u001b[0;31m     \u001b[0;32mraise\u001b[0m \u001b[0mNotImplementedError\u001b[0m\u001b[0;34m(\u001b[0m\u001b[0;34m)\u001b[0m\u001b[0;34m\u001b[0m\u001b[0m\n\u001b[0m",
      "\u001b[0;31mNotImplementedError\u001b[0m: "
     ]
    }
   ],
   "source": [
    "w_hat, b_hat = fit(x,y)\n",
    "w_hat, b_hat"
   ]
  },
  {
   "cell_type": "markdown",
   "metadata": {},
   "source": [
    "Compute the residuals and visualize them with an appropriately labeled histogram:"
   ]
  },
  {
   "cell_type": "code",
   "execution_count": null,
   "metadata": {
    "collapsed": false,
    "deletable": false,
    "nbgrader": {
     "checksum": "3d2789a860c669abfd96d44583c6cb65",
     "grade": true,
     "grade_id": "bootstrap-line-h",
     "locked": false,
     "points": 2,
     "schema_version": 1,
     "solution": true
    }
   },
   "outputs": [],
   "source": [
    "# YOUR CODE HERE"
   ]
  },
  {
   "cell_type": "markdown",
   "metadata": {},
   "source": [
    "Compute the $R^2$ for the model:"
   ]
  },
  {
   "cell_type": "code",
   "execution_count": null,
   "metadata": {
    "collapsed": false,
    "deletable": false,
    "nbgrader": {
     "checksum": "91adac3b57f013ed15be12fd1537830e",
     "grade": true,
     "grade_id": "bootstrap-line-i",
     "locked": false,
     "points": 2,
     "schema_version": 1,
     "solution": true
    }
   },
   "outputs": [],
   "source": [
    "# YOUR CODE HERE\n",
    "raise NotImplementedError()"
   ]
  },
  {
   "cell_type": "markdown",
   "metadata": {},
   "source": [
    "Plot the model predictions (line), on the same plot as the original data (points). Label the two series of data using a legend."
   ]
  },
  {
   "cell_type": "code",
   "execution_count": null,
   "metadata": {
    "collapsed": false,
    "deletable": false,
    "nbgrader": {
     "checksum": "89e27aaa4bb5ba1c5740b7ff6e2f324a",
     "grade": true,
     "grade_id": "bootstrap-line-j",
     "locked": false,
     "points": 2,
     "schema_version": 1,
     "solution": true
    }
   },
   "outputs": [],
   "source": [
    "# YOUR CODE HERE\n",
    "raise NotImplementedError()"
   ]
  },
  {
   "cell_type": "markdown",
   "metadata": {},
   "source": [
    "## Bootstrap"
   ]
  },
  {
   "cell_type": "markdown",
   "metadata": {},
   "source": [
    "Write a function, `bootstrap`, that can create boostrapped versions of the `x` and `x` arrays above. It is important that you bootstrap pairs of `x[i],y[i]` to preserve correlations in the model. Remember, to bootstrap data you will draw random samples with replacement."
   ]
  },
  {
   "cell_type": "code",
   "execution_count": null,
   "metadata": {
    "collapsed": true,
    "deletable": false,
    "nbgrader": {
     "checksum": "c5878ba46eb13e8eabfb2ee7f0eca556",
     "grade": false,
     "grade_id": "bootstrap-line-k",
     "locked": false,
     "schema_version": 1,
     "solution": true
    }
   },
   "outputs": [],
   "source": [
    "def bootstrap(x, y):\n",
    "    \"\"\"Return boostrapped versions of the input X and Y arrays, perserving correlations.\n",
    "    \n",
    "    Parameters\n",
    "    ----------\n",
    "    x: ndarray\n",
    "        Input x array.\n",
    "    y: ndarray\n",
    "        Input y array.\n",
    "    \n",
    "    Returns\n",
    "    -------\n",
    "    xx: ndarray\n",
    "        The boostrapped x array with the same shape as x and correlated random samples\n",
    "        drawn with replacement.\n",
    "    yy: ndarray\n",
    "        The bootstrapped y array with the same shape as y and correlated random samples\n",
    "        drawn with replacement.\n",
    "    \"\"\"\n",
    "    # YOUR CODE HERE\n",
    "    raise NotImplementedError()"
   ]
  },
  {
   "cell_type": "code",
   "execution_count": null,
   "metadata": {
    "collapsed": false,
    "deletable": false,
    "editable": false,
    "nbgrader": {
     "checksum": "217f9ceec8069a40a577943997f06362",
     "grade": true,
     "grade_id": "bootstrap-line-l",
     "locked": true,
     "points": 2,
     "schema_version": 1,
     "solution": false
    }
   },
   "outputs": [],
   "source": [
    "np.random.seed(0)\n",
    "a = np.array([0,1,2,3])\n",
    "b = np.array([4,5,6,7])\n",
    "ab, bb = bootstrap(a, b)\n",
    "for element in ab:\n",
    "    assert element in a\n",
    "for element in bb:\n",
    "    assert element in b\n",
    "assert len(a)==len(ab)\n",
    "assert len(ab)==len(bb)"
   ]
  },
  {
   "cell_type": "markdown",
   "metadata": {},
   "source": [
    "Write a function, `bootstrap_fit`, that takes finds the slope and intercept of the input `X` and `Y` data  using the `fit` function above. Your function should perform this fit `n` times using bootstrapped data."
   ]
  },
  {
   "cell_type": "code",
   "execution_count": null,
   "metadata": {
    "collapsed": true,
    "deletable": false,
    "nbgrader": {
     "checksum": "9825a0b1c1c5f5e17b416142a20d6095",
     "grade": true,
     "grade_id": "bootstrap-line-m",
     "locked": false,
     "points": 2,
     "schema_version": 1,
     "solution": true
    }
   },
   "outputs": [],
   "source": [
    "def bootstrap_fit(x, y, n):\n",
    "    \"\"\"Fit a straight line to x and y n times using bootstrapping.\n",
    "    \n",
    "    Returns\n",
    "    -------\n",
    "    (w, b): tuple of ndarrays\n",
    "        A tuple of 1d arrays with the bootstrapped values of the weight and intercept.\n",
    "    \"\"\"\n",
    "    # YOUR CODE HERE\n",
    "    raise NotImplementedError()"
   ]
  },
  {
   "cell_type": "markdown",
   "metadata": {},
   "source": [
    "Using the original `x` and `y` data above:\n",
    "\n",
    "* Find the bootstrapped weights/slopes and intercepts (bootstrap 200 times).\n",
    "* Make an appropriately labeled 2d histogram of the bootstrapped slopes and intercepts.\n",
    "* Find and print the 95% confidence intervals for the slope and intercept."
   ]
  },
  {
   "cell_type": "code",
   "execution_count": null,
   "metadata": {
    "collapsed": false,
    "deletable": false,
    "nbgrader": {
     "checksum": "f08fd5fe90be7fb35c344d2fe8876189",
     "grade": true,
     "grade_id": "bootstrap-line-n",
     "locked": false,
     "points": 2,
     "schema_version": 1,
     "solution": true
    }
   },
   "outputs": [],
   "source": [
    "# YOUR CODE HERE\n",
    "raise NotImplementedError()"
   ]
  }
 ],
 "metadata": {
  "kernelspec": {
   "display_name": "Python 3",
   "language": "python",
   "name": "python3"
  },
  "language_info": {
   "codemirror_mode": {
    "name": "ipython",
    "version": 3
   },
   "file_extension": ".py",
   "mimetype": "text/x-python",
   "name": "python",
   "nbconvert_exporter": "python",
   "pygments_lexer": "ipython3",
   "version": "3.5.2"
  }
 },
 "nbformat": 4,
 "nbformat_minor": 0
}
