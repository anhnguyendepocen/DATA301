{
 "cells": [
  {
   "cell_type": "markdown",
   "metadata": {},
   "source": [
    "# Complete graph Laplacian"
   ]
  },
  {
   "cell_type": "markdown",
   "metadata": {},
   "source": [
    "## Imports"
   ]
  },
  {
   "cell_type": "code",
   "execution_count": 1,
   "metadata": {
    "collapsed": false
   },
   "outputs": [],
   "source": [
    "import numpy as np\n",
    "%matplotlib inline\n",
    "import matplotlib.pyplot as plt"
   ]
  },
  {
   "cell_type": "markdown",
   "metadata": {},
   "source": [
    "In discrete mathematics a [Graph](http://en.wikipedia.org/wiki/Graph_%28mathematics%29) is a set of *vertices* or *nodes* that are connected to each other by *edges* or *lines*. If those *edges* don't have directionality, the graph is said to be *undirected*. Graphs are used to model social and communications networks (Twitter, Facebook, Internet) as well as natural systems such as molecules.\n",
    "\n",
    "A [Complete Graph](http://en.wikipedia.org/wiki/Complete_graph), $K_n$ on $n$ nodes has an edge that connects each node to every other node.\n",
    "\n",
    "Here is $K_5$:"
   ]
  },
  {
   "cell_type": "code",
   "execution_count": 2,
   "metadata": {
    "collapsed": false
   },
   "outputs": [
    {
     "name": "stderr",
     "output_type": "stream",
     "text": [
      "/opt/conda/lib/python3.5/site-packages/networkx/drawing/nx_pylab.py:126: MatplotlibDeprecationWarning: Future behavior will be consistent with the long-time\n",
      "    default: plot commands add elements without first\n",
      "    clearing the Axes and/or Figure.\n",
      "  b = plt.ishold()\n",
      "/opt/conda/lib/python3.5/site-packages/networkx/drawing/nx_pylab.py:138: MatplotlibDeprecationWarning: Future behavior will be consistent with the long-time\n",
      "    default: plot commands add elements without first\n",
      "    clearing the Axes and/or Figure.\n",
      "  plt.hold(b)\n",
      "/opt/conda/lib/python3.5/site-packages/matplotlib/__init__.py:914: UserWarning: axes.hold is deprecated. Please remove it from your matplotlibrc and/or style files.\n",
      "  warnings.warn(self.msg_depr_set % key)\n",
      "/opt/conda/lib/python3.5/site-packages/matplotlib/rcsetup.py:152: UserWarning: axes.hold is deprecated, will be removed in 3.0\n",
      "  warnings.warn(\"axes.hold is deprecated, will be removed in 3.0\")\n"
     ]
    },
    {
     "data": {
      "image/png": "[encoded data removed]",
      "text/plain": [
       "<matplotlib.figure.Figure at 0x7fb87d56c860>"
      ]
     },
     "metadata": {},
     "output_type": "display_data"
    }
   ],
   "source": [
    "import networkx as nx\n",
    "K_5=nx.complete_graph(5)\n",
    "nx.draw(K_5)"
   ]
  },
  {
   "cell_type": "markdown",
   "metadata": {
    "collapsed": false
   },
   "source": [
    "The [Laplacian Matrix](http://en.wikipedia.org/wiki/Laplacian_matrix) is a matrix that is extremely important in graph theory and numerical analysis. It is defined as $L=D-A$. Where $D$ is the [degree matrix](https://en.wikipedia.org/wiki/Degree_matrix) and $A$ is the [adjecency matrix](https://en.wikipedia.org/wiki/Adjacency_matrix). For the purpose of this problem you don't need to understand the details of these matrices, although their definitions are relatively simple (I encourage you to follow the links above and read about them).\n",
    "\n",
    "The degree matrix for $K_n$ is an $n \\times n$ diagonal matrix with the value $n-1$ along the diagonal and zeros everywhere else. Write a function to compute the degree matrix for $K_n$ using NumPy."
   ]
  },
  {
   "cell_type": "code",
   "execution_count": 3,
   "metadata": {
    "collapsed": true
   },
   "outputs": [],
   "source": [
    "import vizarray as va"
   ]
  },
  {
   "cell_type": "code",
   "execution_count": 4,
   "metadata": {
    "collapsed": false,
    "deletable": false,
    "nbgrader": {
     "checksum": "251bf113f2e9a7b057fb69931255ec80",
     "grade": false,
     "grade_id": "completegrapha",
     "locked": false,
     "schema_version": 1,
     "solution": true
    }
   },
   "outputs": [],
   "source": [
    "def descending_deg(n):\n",
    "    \"\"\"Return the integer valued degree matrix D for the complete graph K_n.\"\"\"\n",
    "    L = [x for x in range(n, 0, -1)]\n",
    "    D = np.diag(L)\n",
    "    return D"
   ]
  },
  {
   "cell_type": "code",
   "execution_count": 5,
   "metadata": {
    "collapsed": true
   },
   "outputs": [],
   "source": [
    "def complete_deg(n):\n",
    "    return np.diag(np.repeat(n-1, n))"
   ]
  },
  {
   "cell_type": "code",
   "execution_count": 6,
   "metadata": {
    "collapsed": false
   },
   "outputs": [
    {
     "data": {
      "text/html": [
       "<style type=\"text/css\">table.blockgrid {border: none;} .blockgrid tr {border: none;} .blockgrid td {padding: 0px;} #blocks6034abba-088c-4e99-8844-ef9cf24b2c8f td {border: 1px solid white;}</style><table id=\"blocks6034abba-088c-4e99-8844-ef9cf24b2c8f\" class=\"blockgrid\"><tbody><tr><td title=\"Index: [0, 0]&#10;Color: (253, 231, 37)\" style=\"width: 30px; height: 30px;background-color: rgb(253, 231, 37);\"></td><td title=\"Index: [0, 1]&#10;Color: (68, 1, 84)\" style=\"width: 30px; height: 30px;background-color: rgb(68, 1, 84);\"></td><td title=\"Index: [0, 2]&#10;Color: (68, 1, 84)\" style=\"width: 30px; height: 30px;background-color: rgb(68, 1, 84);\"></td><td title=\"Index: [0, 3]&#10;Color: (68, 1, 84)\" style=\"width: 30px; height: 30px;background-color: rgb(68, 1, 84);\"></td><td title=\"Index: [0, 4]&#10;Color: (68, 1, 84)\" style=\"width: 30px; height: 30px;background-color: rgb(68, 1, 84);\"></td></tr><tr><td title=\"Index: [1, 0]&#10;Color: (68, 1, 84)\" style=\"width: 30px; height: 30px;background-color: rgb(68, 1, 84);\"></td><td title=\"Index: [1, 1]&#10;Color: (253, 231, 37)\" style=\"width: 30px; height: 30px;background-color: rgb(253, 231, 37);\"></td><td title=\"Index: [1, 2]&#10;Color: (68, 1, 84)\" style=\"width: 30px; height: 30px;background-color: rgb(68, 1, 84);\"></td><td title=\"Index: [1, 3]&#10;Color: (68, 1, 84)\" style=\"width: 30px; height: 30px;background-color: rgb(68, 1, 84);\"></td><td title=\"Index: [1, 4]&#10;Color: (68, 1, 84)\" style=\"width: 30px; height: 30px;background-color: rgb(68, 1, 84);\"></td></tr><tr><td title=\"Index: [2, 0]&#10;Color: (68, 1, 84)\" style=\"width: 30px; height: 30px;background-color: rgb(68, 1, 84);\"></td><td title=\"Index: [2, 1]&#10;Color: (68, 1, 84)\" style=\"width: 30px; height: 30px;background-color: rgb(68, 1, 84);\"></td><td title=\"Index: [2, 2]&#10;Color: (253, 231, 37)\" style=\"width: 30px; height: 30px;background-color: rgb(253, 231, 37);\"></td><td title=\"Index: [2, 3]&#10;Color: (68, 1, 84)\" style=\"width: 30px; height: 30px;background-color: rgb(68, 1, 84);\"></td><td title=\"Index: [2, 4]&#10;Color: (68, 1, 84)\" style=\"width: 30px; height: 30px;background-color: rgb(68, 1, 84);\"></td></tr><tr><td title=\"Index: [3, 0]&#10;Color: (68, 1, 84)\" style=\"width: 30px; height: 30px;background-color: rgb(68, 1, 84);\"></td><td title=\"Index: [3, 1]&#10;Color: (68, 1, 84)\" style=\"width: 30px; height: 30px;background-color: rgb(68, 1, 84);\"></td><td title=\"Index: [3, 2]&#10;Color: (68, 1, 84)\" style=\"width: 30px; height: 30px;background-color: rgb(68, 1, 84);\"></td><td title=\"Index: [3, 3]&#10;Color: (253, 231, 37)\" style=\"width: 30px; height: 30px;background-color: rgb(253, 231, 37);\"></td><td title=\"Index: [3, 4]&#10;Color: (68, 1, 84)\" style=\"width: 30px; height: 30px;background-color: rgb(68, 1, 84);\"></td></tr><tr><td title=\"Index: [4, 0]&#10;Color: (68, 1, 84)\" style=\"width: 30px; height: 30px;background-color: rgb(68, 1, 84);\"></td><td title=\"Index: [4, 1]&#10;Color: (68, 1, 84)\" style=\"width: 30px; height: 30px;background-color: rgb(68, 1, 84);\"></td><td title=\"Index: [4, 2]&#10;Color: (68, 1, 84)\" style=\"width: 30px; height: 30px;background-color: rgb(68, 1, 84);\"></td><td title=\"Index: [4, 3]&#10;Color: (68, 1, 84)\" style=\"width: 30px; height: 30px;background-color: rgb(68, 1, 84);\"></td><td title=\"Index: [4, 4]&#10;Color: (253, 231, 37)\" style=\"width: 30px; height: 30px;background-color: rgb(253, 231, 37);\"></td></tr></tbody></table>"
      ],
      "text/plain": [
       "<ipythonblocks.ipythonblocks.BlockGrid at 0x7fb8d7a0aeb8>"
      ]
     },
     "execution_count": 6,
     "metadata": {},
     "output_type": "execute_result"
    }
   ],
   "source": [
    "D = complete_deg(5)\n",
    "va.vizarray(D)"
   ]
  },
  {
   "cell_type": "code",
   "execution_count": 7,
   "metadata": {
    "collapsed": false
   },
   "outputs": [
    {
     "data": {
      "text/plain": [
       "array([[4, 0, 0, 0, 0],\n",
       "       [0, 4, 0, 0, 0],\n",
       "       [0, 0, 4, 0, 0],\n",
       "       [0, 0, 0, 4, 0],\n",
       "       [0, 0, 0, 0, 4]])"
      ]
     },
     "execution_count": 7,
     "metadata": {},
     "output_type": "execute_result"
    }
   ],
   "source": [
    "D[0:]"
   ]
  },
  {
   "cell_type": "code",
   "execution_count": 8,
   "metadata": {
    "collapsed": false,
    "deletable": false,
    "editable": false,
    "nbgrader": {
     "checksum": "e2225ed17d8b7c0950bbea55d1a169a4",
     "grade": true,
     "grade_id": "completegraphb",
     "locked": false,
     "points": 3,
     "schema_version": 1,
     "solution": false
    }
   },
   "outputs": [],
   "source": [
    "D = complete_deg(5)\n",
    "assert D.shape==(5,5)\n",
    "assert D.dtype==np.dtype(int)\n",
    "assert np.all(D.diagonal()==4*np.ones(5))\n",
    "assert np.all(D-np.diag(D.diagonal())==np.zeros((5,5),dtype=int))"
   ]
  },
  {
   "cell_type": "markdown",
   "metadata": {},
   "source": [
    "The adjacency matrix for $K_n$ is an $n \\times n$ matrix with zeros along the diagonal and ones everywhere else. Write a function to compute the adjacency matrix for $K_n$ using NumPy."
   ]
  },
  {
   "cell_type": "code",
   "execution_count": 9,
   "metadata": {
    "collapsed": true,
    "deletable": false,
    "nbgrader": {
     "checksum": "a1e20496042084d727b017d8acc7aac4",
     "grade": false,
     "grade_id": "completegraphc",
     "locked": false,
     "schema_version": 1,
     "solution": true
    }
   },
   "outputs": [],
   "source": [
    "def complete_adj(n):\n",
    "    \"\"\"Return the integer valued adjacency matrix A for the complete graph K_n.\"\"\"\n",
    "    D = np.diag(np.repeat(True, n))\n",
    "    A = np.bitwise_xor(np.ones((n,n), dtype=bool), D)\n",
    "    A = np.asarray(A, dtype=np.int)\n",
    "    return A"
   ]
  },
  {
   "cell_type": "code",
   "execution_count": 10,
   "metadata": {
    "collapsed": false,
    "deletable": false,
    "editable": false,
    "nbgrader": {
     "checksum": "883e25c80532ae29a76c49682292e1c4",
     "grade": true,
     "grade_id": "completegraphd",
     "locked": false,
     "points": 3,
     "schema_version": 1,
     "solution": false
    }
   },
   "outputs": [],
   "source": [
    "A = complete_adj(5)\n",
    "assert A.shape==(5,5)\n",
    "assert A.dtype==np.dtype(int)\n",
    "assert np.all(A+np.eye(5,dtype=int)==np.ones((5,5),dtype=int))"
   ]
  },
  {
   "cell_type": "markdown",
   "metadata": {},
   "source": [
    "Use NumPy to explore the eigenvalues or *spectrum* of the Laplacian *L* of $K_n$. What patterns do you notice as $n$ changes? Create a *conjecture* about the general Laplace *spectrum* of $K_n$."
   ]
  },
  {
   "cell_type": "code",
   "execution_count": 11,
   "metadata": {
    "collapsed": false
   },
   "outputs": [],
   "source": [
    "import numpy.linalg as la"
   ]
  },
  {
   "cell_type": "code",
   "execution_count": 12,
   "metadata": {
    "collapsed": false,
    "deletable": false,
    "nbgrader": {
     "checksum": "5ca9adcbecfdbb7e14b0f227f5de7343",
     "grade": true,
     "grade_id": "completegraphe",
     "locked": false,
     "points": 2,
     "schema_version": 1,
     "solution": true
    }
   },
   "outputs": [],
   "source": [
    "def display_lap(n):\n",
    "    D = complete_deg(n)\n",
    "    A = complete_adj(n)\n",
    "    L = D - A\n",
    "    return la.eigvals(L)"
   ]
  },
  {
   "cell_type": "code",
   "execution_count": 13,
   "metadata": {
    "collapsed": false
   },
   "outputs": [
    {
     "data": {
      "text/plain": [
       "array([  9.00000000e+00,  -1.11022302e-15,   9.00000000e+00,\n",
       "         9.00000000e+00,   9.00000000e+00,   9.00000000e+00,\n",
       "         9.00000000e+00,   9.00000000e+00,   9.00000000e+00])"
      ]
     },
     "execution_count": 13,
     "metadata": {},
     "output_type": "execute_result"
    }
   ],
   "source": [
    "display_lap(9)"
   ]
  },
  {
   "cell_type": "code",
   "execution_count": 14,
   "metadata": {
    "collapsed": false
   },
   "outputs": [
    {
     "data": {
      "text/plain": [
       "array([ 0.])"
      ]
     },
     "execution_count": 14,
     "metadata": {},
     "output_type": "execute_result"
    }
   ],
   "source": [
    "display_lap(1)"
   ]
  },
  {
   "cell_type": "code",
   "execution_count": 15,
   "metadata": {
    "collapsed": false
   },
   "outputs": [
    {
     "data": {
      "text/plain": [
       "array([ 2.,  0.])"
      ]
     },
     "execution_count": 15,
     "metadata": {},
     "output_type": "execute_result"
    }
   ],
   "source": [
    "display_lap(2)"
   ]
  },
  {
   "cell_type": "code",
   "execution_count": 16,
   "metadata": {
    "collapsed": false
   },
   "outputs": [
    {
     "data": {
      "text/plain": [
       "array([  3.30000000e+01 +0.00000000e+00j,\n",
       "        -3.10862447e-15 +0.00000000e+00j,\n",
       "         3.30000000e+01 +0.00000000e+00j,\n",
       "         3.30000000e+01 +0.00000000e+00j,\n",
       "         3.30000000e+01 +0.00000000e+00j,\n",
       "         3.30000000e+01 +0.00000000e+00j,\n",
       "         3.30000000e+01 +0.00000000e+00j,\n",
       "         3.30000000e+01 +0.00000000e+00j,\n",
       "         3.30000000e+01 +0.00000000e+00j,\n",
       "         3.30000000e+01 +0.00000000e+00j,\n",
       "         3.30000000e+01 +0.00000000e+00j,\n",
       "         3.30000000e+01 +0.00000000e+00j,\n",
       "         3.30000000e+01 +0.00000000e+00j,\n",
       "         3.30000000e+01 +0.00000000e+00j,\n",
       "         3.30000000e+01 +0.00000000e+00j,\n",
       "         3.30000000e+01 +0.00000000e+00j,\n",
       "         3.30000000e+01 +0.00000000e+00j,\n",
       "         3.30000000e+01 +0.00000000e+00j,\n",
       "         3.30000000e+01 +0.00000000e+00j,\n",
       "         3.30000000e+01 +0.00000000e+00j,\n",
       "         3.30000000e+01 +0.00000000e+00j,\n",
       "         3.30000000e+01 +0.00000000e+00j,\n",
       "         3.30000000e+01 +0.00000000e+00j,\n",
       "         3.30000000e+01 +0.00000000e+00j,\n",
       "         3.30000000e+01 +0.00000000e+00j,\n",
       "         3.30000000e+01 +0.00000000e+00j,\n",
       "         3.30000000e+01 +0.00000000e+00j,\n",
       "         3.30000000e+01 +0.00000000e+00j,\n",
       "         3.30000000e+01 +0.00000000e+00j,\n",
       "         3.30000000e+01 +0.00000000e+00j,\n",
       "         3.30000000e+01 +0.00000000e+00j,\n",
       "         3.30000000e+01 +2.51214793e-15j,   3.30000000e+01 -2.51214793e-15j])"
      ]
     },
     "execution_count": 16,
     "metadata": {},
     "output_type": "execute_result"
    }
   ],
   "source": [
    "display_lap(33)"
   ]
  },
  {
   "cell_type": "markdown",
   "metadata": {},
   "source": [
    "In a few sentences, propose a *conjecture* about the general Laplace *spectrum* of $K_n$:"
   ]
  },
  {
   "cell_type": "markdown",
   "metadata": {
    "collapsed": true,
    "deletable": false,
    "nbgrader": {
     "checksum": "2e4d948885370eb420b28323df184497",
     "grade": true,
     "grade_id": "completegraphf",
     "locked": false,
     "points": 2,
     "schema_version": 1,
     "solution": true
    }
   },
   "source": [
    "There seem to be n-1 frequency within the matrix for n with one value near zero for all matrices."
   ]
  },
  {
   "cell_type": "code",
   "execution_count": null,
   "metadata": {
    "collapsed": true
   },
   "outputs": [],
   "source": []
  }
 ],
 "metadata": {
  "kernelspec": {
   "display_name": "Python 3",
   "language": "python",
   "name": "python3"
  },
  "language_info": {
   "codemirror_mode": {
    "name": "ipython",
    "version": 3
   },
   "file_extension": ".py",
   "mimetype": "text/x-python",
   "name": "python",
   "nbconvert_exporter": "python",
   "pygments_lexer": "ipython3",
   "version": "3.5.2"
  }
 },
 "nbformat": 4,
 "nbformat_minor": 0
}
