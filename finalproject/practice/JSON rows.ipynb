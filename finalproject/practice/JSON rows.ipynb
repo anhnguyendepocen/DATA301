{
 "cells": [
  {
   "cell_type": "code",
   "execution_count": 1,
   "metadata": {
    "collapsed": false
   },
   "outputs": [],
   "source": [
    "import json\n",
    "import pandas as pd\n",
    "import requests"
   ]
  },
  {
   "cell_type": "code",
   "execution_count": 2,
   "metadata": {
    "collapsed": false
   },
   "outputs": [],
   "source": [
    "data = json.loads(requests.get('https://data.imls.gov/api/views/gx9p-ff9r/rows.json?accessType=DOWNLOAD').text)"
   ]
  },
  {
   "cell_type": "code",
   "execution_count": 20,
   "metadata": {
    "collapsed": false
   },
   "outputs": [
    {
     "data": {
      "text/html": [
       "<div>\n",
       "<table border=\"1\" class=\"dataframe\">\n",
       "  <thead>\n",
       "    <tr style=\"text-align: right;\">\n",
       "      <th></th>\n",
       "      <th>view</th>\n",
       "    </tr>\n",
       "  </thead>\n",
       "  <tbody>\n",
       "    <tr>\n",
       "      <th>attribution</th>\n",
       "      <td>IMLS</td>\n",
       "    </tr>\n",
       "    <tr>\n",
       "      <th>attributionLink</th>\n",
       "      <td>https://www.imls.gov/research-evaluation/data-...</td>\n",
       "    </tr>\n",
       "    <tr>\n",
       "      <th>averageRating</th>\n",
       "      <td>0</td>\n",
       "    </tr>\n",
       "    <tr>\n",
       "      <th>category</th>\n",
       "      <td>State Library Administrative Agencies Survey</td>\n",
       "    </tr>\n",
       "    <tr>\n",
       "      <th>columns</th>\n",
       "      <td>[{'id': -1, 'renderTypeName': 'meta_data', 'fi...</td>\n",
       "    </tr>\n",
       "    <tr>\n",
       "      <th>createdAt</th>\n",
       "      <td>1482248050</td>\n",
       "    </tr>\n",
       "    <tr>\n",
       "      <th>description</th>\n",
       "      <td>Find key information on state library agencies...</td>\n",
       "    </tr>\n",
       "    <tr>\n",
       "      <th>downloadCount</th>\n",
       "      <td>61</td>\n",
       "    </tr>\n",
       "    <tr>\n",
       "      <th>flags</th>\n",
       "      <td>[default, restorable, restorePossibleForType]</td>\n",
       "    </tr>\n",
       "    <tr>\n",
       "      <th>grants</th>\n",
       "      <td>[{'inherited': False, 'type': 'viewer', 'flags...</td>\n",
       "    </tr>\n",
       "    <tr>\n",
       "      <th>hideFromCatalog</th>\n",
       "      <td>False</td>\n",
       "    </tr>\n",
       "    <tr>\n",
       "      <th>hideFromDataJson</th>\n",
       "      <td>False</td>\n",
       "    </tr>\n",
       "    <tr>\n",
       "      <th>id</th>\n",
       "      <td>gx9p-ff9r</td>\n",
       "    </tr>\n",
       "    <tr>\n",
       "      <th>indexUpdatedAt</th>\n",
       "      <td>1483557600</td>\n",
       "    </tr>\n",
       "    <tr>\n",
       "      <th>license</th>\n",
       "      <td>{'name': 'Public Domain U.S. Government', 'ter...</td>\n",
       "    </tr>\n",
       "    <tr>\n",
       "      <th>licenseId</th>\n",
       "      <td>USGOV_WORKS</td>\n",
       "    </tr>\n",
       "    <tr>\n",
       "      <th>metadata</th>\n",
       "      <td>{'custom_fields': {'Custom Metadata': {'dataDi...</td>\n",
       "    </tr>\n",
       "    <tr>\n",
       "      <th>name</th>\n",
       "      <td>State Libraries Survey, FY 2014, Part 3: Reven...</td>\n",
       "    </tr>\n",
       "    <tr>\n",
       "      <th>newBackend</th>\n",
       "      <td>False</td>\n",
       "    </tr>\n",
       "    <tr>\n",
       "      <th>numberOfComments</th>\n",
       "      <td>0</td>\n",
       "    </tr>\n",
       "    <tr>\n",
       "      <th>oid</th>\n",
       "      <td>25108538</td>\n",
       "    </tr>\n",
       "    <tr>\n",
       "      <th>owner</th>\n",
       "      <td>{'id': 'xhhh-dddv', 'displayName': 'Jason Enos...</td>\n",
       "    </tr>\n",
       "    <tr>\n",
       "      <th>provenance</th>\n",
       "      <td>official</td>\n",
       "    </tr>\n",
       "    <tr>\n",
       "      <th>publicationAppendEnabled</th>\n",
       "      <td>False</td>\n",
       "    </tr>\n",
       "    <tr>\n",
       "      <th>publicationDate</th>\n",
       "      <td>1482253484</td>\n",
       "    </tr>\n",
       "    <tr>\n",
       "      <th>publicationGroup</th>\n",
       "      <td>13957869</td>\n",
       "    </tr>\n",
       "    <tr>\n",
       "      <th>publicationStage</th>\n",
       "      <td>published</td>\n",
       "    </tr>\n",
       "    <tr>\n",
       "      <th>query</th>\n",
       "      <td>{}</td>\n",
       "    </tr>\n",
       "    <tr>\n",
       "      <th>rights</th>\n",
       "      <td>[read]</td>\n",
       "    </tr>\n",
       "    <tr>\n",
       "      <th>rowsUpdatedAt</th>\n",
       "      <td>1482254719</td>\n",
       "    </tr>\n",
       "    <tr>\n",
       "      <th>rowsUpdatedBy</th>\n",
       "      <td>xhhh-dddv</td>\n",
       "    </tr>\n",
       "    <tr>\n",
       "      <th>tableAuthor</th>\n",
       "      <td>{'id': 'xhhh-dddv', 'displayName': 'Jason Enos...</td>\n",
       "    </tr>\n",
       "    <tr>\n",
       "      <th>tableId</th>\n",
       "      <td>13957869</td>\n",
       "    </tr>\n",
       "    <tr>\n",
       "      <th>tags</th>\n",
       "      <td>[state library, slaa, 2014, revenue, expenditu...</td>\n",
       "    </tr>\n",
       "    <tr>\n",
       "      <th>totalTimesRated</th>\n",
       "      <td>0</td>\n",
       "    </tr>\n",
       "    <tr>\n",
       "      <th>viewCount</th>\n",
       "      <td>12</td>\n",
       "    </tr>\n",
       "    <tr>\n",
       "      <th>viewLastModified</th>\n",
       "      <td>1483557066</td>\n",
       "    </tr>\n",
       "    <tr>\n",
       "      <th>viewType</th>\n",
       "      <td>tabular</td>\n",
       "    </tr>\n",
       "  </tbody>\n",
       "</table>\n",
       "</div>"
      ],
      "text/plain": [
       "                                                                       view\n",
       "attribution                                                            IMLS\n",
       "attributionLink           https://www.imls.gov/research-evaluation/data-...\n",
       "averageRating                                                             0\n",
       "category                       State Library Administrative Agencies Survey\n",
       "columns                   [{'id': -1, 'renderTypeName': 'meta_data', 'fi...\n",
       "createdAt                                                        1482248050\n",
       "description               Find key information on state library agencies...\n",
       "downloadCount                                                            61\n",
       "flags                         [default, restorable, restorePossibleForType]\n",
       "grants                    [{'inherited': False, 'type': 'viewer', 'flags...\n",
       "hideFromCatalog                                                       False\n",
       "hideFromDataJson                                                      False\n",
       "id                                                                gx9p-ff9r\n",
       "indexUpdatedAt                                                   1483557600\n",
       "license                   {'name': 'Public Domain U.S. Government', 'ter...\n",
       "licenseId                                                       USGOV_WORKS\n",
       "metadata                  {'custom_fields': {'Custom Metadata': {'dataDi...\n",
       "name                      State Libraries Survey, FY 2014, Part 3: Reven...\n",
       "newBackend                                                            False\n",
       "numberOfComments                                                          0\n",
       "oid                                                                25108538\n",
       "owner                     {'id': 'xhhh-dddv', 'displayName': 'Jason Enos...\n",
       "provenance                                                         official\n",
       "publicationAppendEnabled                                              False\n",
       "publicationDate                                                  1482253484\n",
       "publicationGroup                                                   13957869\n",
       "publicationStage                                                  published\n",
       "query                                                                    {}\n",
       "rights                                                               [read]\n",
       "rowsUpdatedAt                                                    1482254719\n",
       "rowsUpdatedBy                                                     xhhh-dddv\n",
       "tableAuthor               {'id': 'xhhh-dddv', 'displayName': 'Jason Enos...\n",
       "tableId                                                            13957869\n",
       "tags                      [state library, slaa, 2014, revenue, expenditu...\n",
       "totalTimesRated                                                           0\n",
       "viewCount                                                                12\n",
       "viewLastModified                                                 1483557066\n",
       "viewType                                                            tabular"
      ]
     },
     "execution_count": 20,
     "metadata": {},
     "output_type": "execute_result"
    }
   ],
   "source": [
    "pd.DataFrame(data['meta'])"
   ]
  },
  {
   "cell_type": "code",
   "execution_count": 23,
   "metadata": {
    "collapsed": false
   },
   "outputs": [],
   "source": [
    "d1 = data['meta']['view']['columns']"
   ]
  },
  {
   "cell_type": "code",
   "execution_count": 30,
   "metadata": {
    "collapsed": false
   },
   "outputs": [],
   "source": [
    "d2 = pd.DataFrame(data['meta']['view']['columns'])"
   ]
  },
  {
   "cell_type": "code",
   "execution_count": 33,
   "metadata": {
    "collapsed": false
   },
   "outputs": [],
   "source": [
    "lib14p1 = pd.DataFrame(data['data'], columns=d2['name'])"
   ]
  },
  {
   "cell_type": "code",
   "execution_count": 37,
   "metadata": {
    "collapsed": false
   },
   "outputs": [
    {
     "data": {
      "text/plain": [
       "Index(['STLA Name', 'Street', 'City', 'State', 'Zip', 'Zip+4', 'Street (mail)',\n",
       "       'City (mail)', 'State (mail)', 'Zip (mail)', 'Zip+4 (mail)',\n",
       "       'Web Address', 'Admins state funds', 'Admins state funds acad',\n",
       "       'Admins state funds school', 'Admins state funds special',\n",
       "       'Admins state funds co-ops', 'Other fed rev specified',\n",
       "       'FIPS state code', 'BEA code', 'Reporting Status',\n",
       "       'Fiscal year start date, mm/dd/yyyy',\n",
       "       'Fiscal year end date, mm/dd/yyyy', 'LSTA revenue',\n",
       "       'Other federal revenue', 'Total federal revenue',\n",
       "       'St rev STLA operation', 'St rev aid to libraries', 'St rev other',\n",
       "       'St rev TOTAL', 'Other revenue', 'Total revenue'],\n",
       "      dtype='object', name='name')"
      ]
     },
     "execution_count": 37,
     "metadata": {},
     "output_type": "execute_result"
    }
   ],
   "source": [
    "lib14p1.keys()[8:40]"
   ]
  },
  {
   "cell_type": "code",
   "execution_count": null,
   "metadata": {
    "collapsed": true
   },
   "outputs": [],
   "source": []
  }
 ],
 "metadata": {
  "kernelspec": {
   "display_name": "Python 3",
   "language": "python",
   "name": "python3"
  },
  "language_info": {
   "codemirror_mode": {
    "name": "ipython",
    "version": 3
   },
   "file_extension": ".py",
   "mimetype": "text/x-python",
   "name": "python",
   "nbconvert_exporter": "python",
   "pygments_lexer": "ipython3",
   "version": "3.5.2"
  }
 },
 "nbformat": 4,
 "nbformat_minor": 2
}
