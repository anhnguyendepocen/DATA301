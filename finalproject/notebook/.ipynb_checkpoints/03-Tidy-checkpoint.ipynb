{
 "cells": [
  {
   "cell_type": "markdown",
   "metadata": {
    "collapsed": true,
    "slideshow": {
     "slide_type": "-"
    }
   },
   "source": [
    "# Imports\n",
    "There are two major modules used to tidy the dataset:\n",
    "1. openpyxl\n",
    "2. pandas"
   ]
  },
  {
   "cell_type": "markdown",
   "metadata": {
    "collapsed": true,
    "slideshow": {
     "slide_type": "-"
    }
   },
   "source": [
    "### openpyxl\n",
    "\n",
    "In order to effectively manipulate XLSX files, the *openpyxl* python module is necessary to extract the relevant columns from the multiple sheets in the SurveyMonthly.xlsx file."
   ]
  },
  {
   "cell_type": "code",
   "execution_count": 1,
   "metadata": {
    "collapsed": true,
    "slideshow": {
     "slide_type": "-"
    }
   },
   "outputs": [],
   "source": [
    "import openpyxl as opxl"
   ]
  },
  {
   "cell_type": "markdown",
   "metadata": {},
   "source": [
    "### pandas\n",
    "As a powerful tool learned in DATA 301, the *pandas* python module is necessary to organize columns, ensure unique indices, and merge & join tables."
   ]
  },
  {
   "cell_type": "code",
   "execution_count": 2,
   "metadata": {
    "collapsed": true
   },
   "outputs": [],
   "source": [
    "import pandas as pd"
   ]
  },
  {
   "cell_type": "markdown",
   "metadata": {},
   "source": [
    "---\n",
    "# Procedure"
   ]
  },
  {
   "cell_type": "markdown",
   "metadata": {},
   "source": [
    "### Relevant Information"
   ]
  },
  {
   "cell_type": "markdown",
   "metadata": {},
   "source": [
    "*Files & Columns*"
   ]
  },
  {
   "cell_type": "code",
   "execution_count": 3,
   "metadata": {
    "collapsed": false
   },
   "outputs": [],
   "source": [
    "loadFileDir = '/data/chazalex/' #file directory by which to find data files\n",
    "CSVfileNames = {'Battery.csv':['participantID', 'date', 'level', 'plugged']}#file name with its relevant columns\n",
    "XLSXfileNames = {'SurveyMonthly.xlsx':[1, 2, 3, 7, 10]} #file name with its relevant sheet indices\n",
    "sheetColumns = {0:['Days felt', 'Student confidence', 'Non-student confidence'], \n",
    "                1:['I see myself as someone who'], \n",
    "                2:['Personal outlook', 'More Agree/Disagree', 'In the past week'], \n",
    "                3:['More Agree/Disagree', 'Describe self', 'Variety feelings/behaviors'],\n",
    "                4:['Fate Opinion']} #the relevant columns from each sheet\n",
    "\n",
    "saveFileDir = '/data/chazalex/transforms/' #file directory to which to save transformed files"
   ]
  },
  {
   "cell_type": "markdown",
   "metadata": {},
   "source": [
    "### Functions"
   ]
  },
  {
   "cell_type": "code",
   "execution_count": 4,
   "metadata": {
    "collapsed": true
   },
   "outputs": [],
   "source": [
    "def initDataframes(loadFileDir, CSVdict, XLSXdict, sheetCol):\n",
    "    rawDFlist = XLSXtoDF(loadFileDir, XLSXfileNames)\n",
    "    xlDFlist = extractColumnsFromRawDFlist(rawDFlist, sheetCol)\n",
    "    dfList = CSVtoDF(xlDFlist, loadFileDir, CSVfileNames)\n",
    "    for df in dfList:\n",
    "        #datetime = pd.to_datetime(df['date'])\n",
    "        #dt = df['date'].astype(np.dtype('M'))\n",
    "        #df['time'] = pd.DatetimeIndex(df['date']).time\n",
    "        df['year'] = pd.DatetimeIndex(df['date']).year\n",
    "        df['month'] = pd.DatetimeIndex(df['date']).month\n",
    "        df['day'] = pd.DatetimeIndex(df['date']).day\n",
    "        df['hour'] = pd.DatetimeIndex(df['date']).hour\n",
    "        df.drop('date', axis=1, inplace=True)\n",
    "        #df['date'] = pd.DatetimeIndex(df['date']).date\n",
    "        #df['time'] = datetime.apply(lambda x: x.time())\n",
    "        #df['date'] = pd.to_datetime(df['date'])\n",
    "    return dfList"
   ]
  },
  {
   "cell_type": "markdown",
   "metadata": {},
   "source": [
    "*XLSX*"
   ]
  },
  {
   "cell_type": "code",
   "execution_count": 5,
   "metadata": {
    "collapsed": true
   },
   "outputs": [],
   "source": [
    "def XLSXtoDF(loadFileDir, XLSXdict):\n",
    "    files = [extractSheets(loadFileDir, key, XLSXdict[key]) for key in XLSXdict.keys()]\n",
    "    for file in files:\n",
    "        dfList = [sheetToDF(sheet) for sheet in file]\n",
    "    return dfList"
   ]
  },
  {
   "cell_type": "code",
   "execution_count": 6,
   "metadata": {
    "collapsed": true
   },
   "outputs": [],
   "source": [
    "def extractSheets(loadFileDir, fileName, sheetIdx):\n",
    "    workbook = opxl.load_workbook(loadFileDir + fileName)\n",
    "    SNs = workbook.get_sheet_names()\n",
    "    sheetNamesList = [SNs[i] for i in sheetIdx]\n",
    "    sheets = [workbook[name] for name in sheetNamesList]\n",
    "    return sheets"
   ]
  },
  {
   "cell_type": "code",
   "execution_count": 7,
   "metadata": {
    "collapsed": true
   },
   "outputs": [],
   "source": [
    "def sheetToDF(sheet):\n",
    "    data = sheet.values\n",
    "    cols = next(data)[0:]\n",
    "    data = list(data)\n",
    "    df = pd.DataFrame(data, columns=cols)\n",
    "    return df"
   ]
  },
  {
   "cell_type": "code",
   "execution_count": 8,
   "metadata": {
    "collapsed": false
   },
   "outputs": [],
   "source": [
    "def extractColumnsFromRawDFlist(rawDFlist, sheetCol):\n",
    "    dfList = []\n",
    "    for key in sheetColumns:\n",
    "        colList = ['participantID', 'StartDate']\n",
    "        for substring in sheetColumns[key]:\n",
    "            [colList.append(col) for col in rawDFlist[key].columns if substring in col]\n",
    "        dfList.append(pd.DataFrame(rawDFlist[key], columns=colList))\n",
    "        dfList[key].rename(index=str, columns={'StartDate':'date'}, inplace=True)\n",
    "    return dfList"
   ]
  },
  {
   "cell_type": "markdown",
   "metadata": {},
   "source": [
    "*CSV*"
   ]
  },
  {
   "cell_type": "code",
   "execution_count": 9,
   "metadata": {
    "collapsed": false
   },
   "outputs": [],
   "source": [
    "def CSVtoDF(dfList, loadFileDir, CSVdict):\n",
    "    [dfList.append(pd.read_csv(loadFileDir + fileName, usecols=CSVdict[fileName])) for fileName in CSVdict]\n",
    "    #usecols=CSVdict[fileName]\n",
    "    return dfList"
   ]
  },
  {
   "cell_type": "markdown",
   "metadata": {},
   "source": [
    "*Transform*"
   ]
  },
  {
   "cell_type": "markdown",
   "metadata": {},
   "source": [
    "*Display*"
   ]
  },
  {
   "cell_type": "code",
   "execution_count": 10,
   "metadata": {
    "collapsed": true
   },
   "outputs": [],
   "source": [
    "def displayDFinfo(DFdict):\n",
    "    for (fileName, df) in saveFileDict.items():\n",
    "        print('====================================================')\n",
    "        print(fileName)\n",
    "        print('====================================================')\n",
    "        print(df.info())"
   ]
  },
  {
   "cell_type": "markdown",
   "metadata": {},
   "source": [
    "### Steps"
   ]
  },
  {
   "cell_type": "markdown",
   "metadata": {},
   "source": [
    "*Intialize Dataframes*"
   ]
  },
  {
   "cell_type": "code",
   "execution_count": 11,
   "metadata": {
    "collapsed": false
   },
   "outputs": [
    {
     "name": "stderr",
     "output_type": "stream",
     "text": [
      "/opt/conda/lib/python3.5/site-packages/openpyxl/reader/worksheet.py:310: UserWarning: Unknown extension is not supported and will be removed\n",
      "  warn(msg)\n"
     ]
    }
   ],
   "source": [
    "dfList = initDataframes(loadFileDir, CSVfileNames, XLSXfileNames, sheetColumns)"
   ]
  },
  {
   "cell_type": "markdown",
   "metadata": {
    "collapsed": false
   },
   "source": [
    "*Transform Dataframes*"
   ]
  },
  {
   "cell_type": "markdown",
   "metadata": {},
   "source": [
    "Initialized"
   ]
  },
  {
   "cell_type": "code",
   "execution_count": 12,
   "metadata": {
    "collapsed": false
   },
   "outputs": [],
   "source": [
    "spPercept = pd.concat([dfList[0].drop(['year', 'month', 'day', 'hour'], axis=1), \n",
    "                       dfList[1].drop(['year', 'month', 'day', 'hour'], axis=1), \n",
    "                       dfList[2]], axis=1)\n",
    "faSpPercept = pd.concat([dfList[3], dfList[4]], axis=1)\n",
    "battery = dfList[-1]"
   ]
  },
  {
   "cell_type": "markdown",
   "metadata": {},
   "source": [
    "Averaged"
   ]
  },
  {
   "cell_type": "code",
   "execution_count": 13,
   "metadata": {
    "collapsed": false
   },
   "outputs": [],
   "source": [
    "batteryPartIDAvg = battery.groupby('participantID', as_index=False)['level','plugged'].mean()\n",
    "batteryDateAvg = battery.groupby(['year', 'month', 'day'], as_index=False).mean()"
   ]
  },
  {
   "cell_type": "markdown",
   "metadata": {},
   "source": [
    "Merged"
   ]
  },
  {
   "cell_type": "code",
   "execution_count": 14,
   "metadata": {
    "collapsed": false
   },
   "outputs": [],
   "source": [
    "batMergeSpDate = pd.merge(batteryDateAvg.drop('hour', axis=1), spPercept, on=['year', 'month', 'day'])"
   ]
  },
  {
   "cell_type": "markdown",
   "metadata": {},
   "source": [
    "*Save Dataframes*"
   ]
  },
  {
   "cell_type": "code",
   "execution_count": 15,
   "metadata": {
    "collapsed": false
   },
   "outputs": [],
   "source": [
    "saveFileDict = {'spPerceptions.csv':spPercept, 'faSpPerceptions.csv':faSpPercept, 'battery.csv':battery,\n",
    "                'batteryPartIDAvg.csv':batteryPartIDAvg, 'batteryDateAvg.csv':batteryDateAvg, \n",
    "                'batMergeSpDate.csv':batMergeSpDate}"
   ]
  },
  {
   "cell_type": "code",
   "execution_count": 16,
   "metadata": {
    "collapsed": false
   },
   "outputs": [],
   "source": [
    "for (fileName, df) in saveFileDict.items():\n",
    "    df.to_csv('/data/chazalex/transforms/'+fileName, index=False)"
   ]
  },
  {
   "cell_type": "markdown",
   "metadata": {},
   "source": [
    "---\n",
    "# Summary"
   ]
  },
  {
   "cell_type": "code",
   "execution_count": 17,
   "metadata": {
    "collapsed": false
   },
   "outputs": [
    {
     "name": "stdout",
     "output_type": "stream",
     "text": [
      "====================================================\n",
      "spPerceptions.csv\n",
      "====================================================\n",
      "<class 'pandas.core.frame.DataFrame'>\n",
      "Index: 57 entries, 0 to 9\n",
      "Columns: 130 entries, participantID to hour\n",
      "dtypes: float64(9), object(121)\n",
      "memory usage: 58.3+ KB\n",
      "None\n",
      "====================================================\n",
      "faSpPerceptions.csv\n",
      "====================================================\n",
      "<class 'pandas.core.frame.DataFrame'>\n",
      "Index: 120 entries, 0 to 99\n",
      "Data columns (total 54 columns):\n",
      "participantID                                                                                                                           120 non-null object\n",
      "More Agree/Disagree In most ways my life is close to my ideal.                                                                          120 non-null object\n",
      "More Agree/Disagree The conditions in my life are excellent.                                                                            120 non-null object\n",
      "More Agree/Disagree I am satisfied with my life.                                                                                        119 non-null object\n",
      "More Agree/Disagree So far I have gotten the important things I want in life.                                                           120 non-null object\n",
      " More Agree/Disagree If I could live my life over, I would change almost nothing.                                                       120 non-null object\n",
      " More Agree/Disagree In general, I consider myself a happy person.                                                                      120 non-null object\n",
      " More Agree/Disagree Compared to most of my peers, I consider myself more happy.                                                        120 non-null object\n",
      " More Agree/Disagree I am generally very happy. I enjoy life regardless of what is going on, getting the most out of everything.        119 non-null object\n",
      " More Agree/Disagree I am generally not very happy. Although I am not depressed, I never seem as happy as I might be.                   120 non-null object\n",
      "Describe self I would describe myself as someone who actively seeks as much information as I can in a new situation.                    120 non-null int64\n",
      "Describe self When I am participating in an activity, I tend to get so involved that I lose track of time.                              120 non-null int64\n",
      "Describe self I frequently find myself looking for new opportunities to grow as a person (e.g., information, people, resources).        120 non-null int64\n",
      "Describe self I am not the type of person who probes deeply into new situations or things.                                              118 non-null float64\n",
      "Describe self When I am actively interested in something, it takes a great deal to interrupt me.                                        120 non-null int64\n",
      "Describe self My friends would describe me as someone who is extremely intense when in the middle of doing.                             119 non-null float64\n",
      "Describe self Everywhere I go, I am out looking for new things or experiences.                                                          120 non-null int64\n",
      "Variety feelings/behaviors If someone Iâ€™m talking with begins to cry, I get teary-eyed.                                               120 non-null int64\n",
      "Variety feelings/behaviors Being with a happy person picks me up when Iâ€™m feeling down.                                               120 non-null int64\n",
      "Variety feelings/behaviors When someone smiles warmly at me, I smile back and feel warm inside.                                         120 non-null int64\n",
      "Variety feelings/behaviors I get filled with sorrow when people talk about the death of their loved ones.                               119 non-null float64\n",
      "Variety feelings/behaviors I clench my jaws and my shoulders get tight when I see the angry faces on the news.                          118 non-null float64\n",
      "Variety feelings/behaviors When I look into the eyes of the one I love, my mind is filled with thoughts of romance.                     120 non-null int64\n",
      "Variety feelings/behaviors It irritates me to be around angry people.                                                                   120 non-null int64\n",
      "Variety feelings/behaviors Watching the fearful faces of victims on the news makes me try to imagine how they might be feeling.         120 non-null int64\n",
      "Variety feelings/behaviors I melt when the one I love holds me close.                                                                   120 non-null int64\n",
      "Variety feelings/behaviors I tense when overhearing an angry quarrel.                                                                   120 non-null int64\n",
      "Variety feelings/behaviors Being around happy people fills my mind with happy thoughts.                                                 120 non-null int64\n",
      "Variety feelings/behaviors I sense my body responding when the one I love touches me.                                                   118 non-null float64\n",
      "Variety feelings/behaviors I notice myself getting tense when Iâ€™m around people who are stressed out.                                 120 non-null int64\n",
      "Variety feelings/behaviors I cry at sad movies.                                                                                         120 non-null int64\n",
      "Variety feelings/behaviors Listening to the shrill screams of a terrified child in a dentistâ€™s waiting room makes me feel nervous.    120 non-null int64\n",
      "year                                                                                                                                    120 non-null int32\n",
      "month                                                                                                                                   120 non-null int32\n",
      "day                                                                                                                                     120 non-null int32\n",
      "hour                                                                                                                                    120 non-null int32\n",
      "participantID                                                                                                                           106 non-null object\n",
      "Fate Opinion  1                                                                                                                         102 non-null object\n",
      "Fate Opinion  2                                                                                                                         103 non-null object\n",
      "Fate Opinion  3                                                                                                                         102 non-null object\n",
      "Fate Opinion  4                                                                                                                         100 non-null object\n",
      "Fate Opinion  5                                                                                                                         101 non-null object\n",
      "Fate Opinion  6                                                                                                                         103 non-null object\n",
      "Fate Opinion  7                                                                                                                         102 non-null object\n",
      "Fate Opinion  8                                                                                                                         100 non-null object\n",
      "Fate Opinion  9                                                                                                                         102 non-null object\n",
      "Fate Opinion  10                                                                                                                        101 non-null object\n",
      "Fate Opinion  11                                                                                                                        103 non-null object\n",
      "Fate Opinion  12                                                                                                                        101 non-null object\n",
      "Fate Opinion  13                                                                                                                        101 non-null object\n",
      "year                                                                                                                                    107 non-null float64\n",
      "month                                                                                                                                   107 non-null float64\n",
      "day                                                                                                                                     107 non-null float64\n",
      "hour                                                                                                                                    107 non-null float64\n",
      "dtypes: float64(9), int32(4), int64(17), object(24)\n",
      "memory usage: 49.7+ KB\n",
      "None\n",
      "====================================================\n",
      "batteryDateAvg.csv\n",
      "====================================================\n",
      "<class 'pandas.core.frame.DataFrame'>\n",
      "Int64Index: 509 entries, 0 to 508\n",
      "Data columns (total 6 columns):\n",
      "year       509 non-null int64\n",
      "month      509 non-null int64\n",
      "day        509 non-null int64\n",
      "level      509 non-null float64\n",
      "plugged    509 non-null float64\n",
      "hour       509 non-null float64\n",
      "dtypes: float64(3), int64(3)\n",
      "memory usage: 27.8 KB\n",
      "None\n",
      "====================================================\n",
      "battery.csv\n",
      "====================================================\n",
      "<class 'pandas.core.frame.DataFrame'>\n",
      "RangeIndex: 16027105 entries, 0 to 16027104\n",
      "Data columns (total 7 columns):\n",
      "participantID    object\n",
      "level            int64\n",
      "plugged          int64\n",
      "year             int32\n",
      "month            int32\n",
      "day              int32\n",
      "hour             int32\n",
      "dtypes: int32(4), int64(2), object(1)\n",
      "memory usage: 611.4+ MB\n",
      "None\n",
      "====================================================\n",
      "batteryPartIDAvg.csv\n",
      "====================================================\n",
      "<class 'pandas.core.frame.DataFrame'>\n",
      "Int64Index: 141 entries, 0 to 140\n",
      "Data columns (total 3 columns):\n",
      "participantID    141 non-null object\n",
      "level            141 non-null float64\n",
      "plugged          141 non-null float64\n",
      "dtypes: float64(2), object(1)\n",
      "memory usage: 4.4+ KB\n",
      "None\n",
      "====================================================\n",
      "batMergeSpDate.csv\n",
      "====================================================\n",
      "<class 'pandas.core.frame.DataFrame'>\n",
      "Int64Index: 42 entries, 0 to 41\n",
      "Columns: 132 entries, year to hour\n",
      "dtypes: float64(8), int64(3), object(121)\n",
      "memory usage: 43.6+ KB\n",
      "None\n"
     ]
    }
   ],
   "source": [
    "displayDFinfo(saveFileDict)"
   ]
  },
  {
   "cell_type": "markdown",
   "metadata": {
    "collapsed": true
   },
   "source": [
    "---\n",
    "<!--NAVIGATION-->\n",
    "< [Raw Dataset](https://data301.calpolydatascience.org/user/chazalex/notebooks/finalproj/notebook/02-Raw.ipynb) | [Data Analysis](https://data301.calpolydatascience.org/user/chazalex/notebooks/finalproj/notebook/04-EDA.ipynb) >"
   ]
  },
  {
   "cell_type": "code",
   "execution_count": null,
   "metadata": {
    "collapsed": true
   },
   "outputs": [],
   "source": []
  }
 ],
 "metadata": {
  "kernelspec": {
   "display_name": "Python 3",
   "language": "python",
   "name": "python3"
  },
  "language_info": {
   "codemirror_mode": {
    "name": "ipython",
    "version": 3
   },
   "file_extension": ".py",
   "mimetype": "text/x-python",
   "name": "python",
   "nbconvert_exporter": "python",
   "pygments_lexer": "ipython3",
   "version": "3.5.2"
  }
 },
 "nbformat": 4,
 "nbformat_minor": 2
}
