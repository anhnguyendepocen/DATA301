{
 "cells": [
  {
   "cell_type": "markdown",
   "metadata": {},
   "source": [
    "# Dataset Characteristics"
   ]
  },
  {
   "cell_type": "markdown",
   "metadata": {},
   "source": [
    "The dataset originates from a controlled MIT experiment and as such there were two major sources for data:\n",
    "1. Mobile Phone\n",
    "2. Periodic Surveys"
   ]
  },
  {
   "cell_type": "markdown",
   "metadata": {},
   "source": [
    "---\n",
    "## Mobile Phone\n",
    "The study refers to the first source as \"sensor data\" acquired by Android OS based mobile phones which \"map users activity features, proximity networks, media consumption, and behavior diffusion patterns.\"\n",
    "\n",
    "<img src=\"../img/sensorCap.PNG\" />\n",
    "\n",
    "#### Files\n",
    "The dataset consists of the following mobile phone related files:\n",
    "* Accel.csv\n",
    "    - Dimensional acceleration in X-Y-Z directions at given times for each participant.\n",
    "* AccelAccum.csv\n",
    "    - Interval calculations of acceleration at given times for each participant.\n",
    "* App.csv\n",
    "* Battery.csv\n",
    "    - Battery percentage-level, voltage-level, and plugged-in status at given times for each participant.\n",
    "* BluetoothProximity.csv\n",
    "* CallLog.csv\n",
    "* SMSLog.csv\n",
    "* Location.csv\n",
    "* WiFi.tar\n",
    "\n",
    "#### Format\n",
    "These files are all comma-separated value (CSV) format which have at most a half-dozen columns that are very specific to a single sensor of the mobile phone. Each contains participants' IDs corresponding to the date and time at which the specific sensor was logged."
   ]
  },
  {
   "cell_type": "markdown",
   "metadata": {},
   "source": [
    "---\n",
    "## Periodic Surveys\n",
    "The study divides the second source of surveys into two distinct parts: \n",
    "1. individual demographics\n",
    "2. social activities and interactions\n",
    "\n",
    "The first survey set is based on an inital survey which identifies a participant's demographics as well as subsequent monthly surveys which include questions about self-perceptions and \"standard scales like the Big-Five personality test.\"\n",
    "\n",
    "<img src=\"../img/indivDemogCap.PNG\" />\n",
    "\n",
    "\n",
    "The second survey set is based on surveys involving \"self-perception of relationships, group affiliation, interactions\" as well as \"questions like mood, sleep, and other activity logging.\"\n",
    "\n",
    "<img src=\"../img/weeklyCap.PNG\" />\n",
    "\n",
    "#### Files\n",
    "The dataset consists of the following survey-related files:\n",
    "* SurveyMonthly.xlsx\n",
    "* SurveyWeekly.xlsx\n",
    "* FunFit.xlsx\n",
    "* SurveyFriendship.csv\n",
    "* SurveyFromPhone.csv\n",
    "* SurveyWeight.csv\n",
    "\n",
    "#### Format\n",
    "These files are formatted as CSV and Microsoft Excel Open XML Format Spreadsheet (XLSX). Each XLSX file contains multiple CSV sheets which contain hundreds of rows and columns. Each CSV file has "
   ]
  },
  {
   "cell_type": "markdown",
   "metadata": {},
   "source": [
    "---\n",
    "## Relevant Files\n",
    "The following files were used in this project's investigation:\n",
    "\n",
    "**Battery.csv**\n",
    "\n",
    "Why?\n",
    "\n",
    "Featured Columns: \n",
    "* participantID - categorical (string)\n",
    "* date - quantitative (datetime)\n",
    "* level - quant (0 - 100)\n",
    "* plugged - quant (boolean)\n",
    "            \n",
    "\n",
    "**Location.csv**\n",
    "\n",
    "Why?\n",
    "\n",
    "Featured Columns:\n",
    "* participantID - categorical (string)\n",
    "* date - quantitative (datetime)\n",
    "* accuracy - quantitative ()\n",
    "* x - quantitative (coordinate?)\n",
    "* y - quantitative (coordinate?)\n",
    "\n",
    "**SurveyMonthly.xlsx**\n",
    "\n",
    "Why?\n",
    "\n",
    "Featured Columns:\n",
    "* participantID - categorical (string)\n",
    "* startDate - quantitative (datetime)\n",
    "\n",
    "**SurveyFriendship.csv**\n",
    "\n",
    "Why?\n",
    "\n",
    "Featured Columns:\n",
    "* source - categorical (participantID)\n",
    "* target - categorical (particpantID)\n",
    "* weight - quantitative (0 - 10?)\n",
    "* date - quantitative (date)"
   ]
  },
  {
   "cell_type": "markdown",
   "metadata": {
    "collapsed": true
   },
   "source": [
    "---\n",
    "# Summary"
   ]
  },
  {
   "cell_type": "markdown",
   "metadata": {
    "collapsed": true
   },
   "source": [
    "---\n",
    "<!--NAVIGATION-->\n",
    "< [Introduction](https://data301.calpolydatascience.org/user/chazalex/notebooks/finalproj/notebook/01-Introduction.ipynb) | [Tidy Data](https://data301.calpolydatascience.org/user/chazalex/notebooks/finalproj/notebook/03-Tidy.ipynb) >"
   ]
  },
  {
   "cell_type": "code",
   "execution_count": null,
   "metadata": {
    "collapsed": true
   },
   "outputs": [],
   "source": []
  }
 ],
 "metadata": {
  "kernelspec": {
   "display_name": "Python 3",
   "language": "python",
   "name": "python3"
  },
  "language_info": {
   "codemirror_mode": {
    "name": "ipython",
    "version": 3
   },
   "file_extension": ".py",
   "mimetype": "text/x-python",
   "name": "python",
   "nbconvert_exporter": "python",
   "pygments_lexer": "ipython3",
   "version": "3.5.2"
  }
 },
 "nbformat": 4,
 "nbformat_minor": 2
}
