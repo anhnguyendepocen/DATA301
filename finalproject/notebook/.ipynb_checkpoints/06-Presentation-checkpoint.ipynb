{
 "cells": [
  {
   "cell_type": "markdown",
   "metadata": {
    "collapsed": true
   },
   "source": [
    "# Charles Alexander"
   ]
  },
  {
   "cell_type": "markdown",
   "metadata": {},
   "source": [
    "## Dataset"
   ]
  },
  {
   "cell_type": "markdown",
   "metadata": {},
   "source": [
    "Family & Friends from MIT Reality Commons"
   ]
  },
  {
   "cell_type": "markdown",
   "metadata": {},
   "source": [
    "## Goals & Questions"
   ]
  },
  {
   "cell_type": "markdown",
   "metadata": {},
   "source": [
    "**Original**\n",
    "\n",
    "To explore the relationship between self-perception and time away from home based on location accessed regularly from mobile phone.\n",
    "\n",
    "**Modified**\n",
    "\n",
    "To explore the relationship between self-perception and the amount of time spent outside. The lifestyle behaviors to determine this were based on the following inference:\n",
    "\n",
    "*When the mobile phone is plugged in, the participant is most likely inside.*"
   ]
  },
  {
   "cell_type": "markdown",
   "metadata": {},
   "source": [
    "## Difficulties"
   ]
  },
  {
   "cell_type": "markdown",
   "metadata": {},
   "source": [
    "**Location**\n",
    "\n",
    "The data was undescriptive about how location was logged. It simply states:\n",
    ">Location every 30 minutes (Location.csv.bz2), with each record including the participant ID associated with the data-collecting mobile phone (ParticipantID), the date-time when the location is recorded (date), the 68% confidence offset of the estimation from true location(accuracy, in meters), and **the estimated location affine-transformed (x, y)**.\n",
    "\n",
    "\n",
    "Here is a snapshot:\n",
    "\n",
    "<img src=\"../img/locCap.PNG\" />\n",
    "\n",
    "Unable to make any meaningful use of the location data, I decided to use the battery information."
   ]
  },
  {
   "cell_type": "markdown",
   "metadata": {},
   "source": [
    "**Memory Management**\n",
    "\n",
    "Didn't realize I would need to use dask. While only having four relevant columns, the battery.csv file has over 160,000,000 rows.\n",
    "\n",
    "Problems with dask & datetime and dask & altair."
   ]
  },
  {
   "cell_type": "markdown",
   "metadata": {},
   "source": [
    "## Notebooks\n",
    "0. [Introduction](https://data301.calpolydatascience.org/user/chazalex/notebooks/finalproj/notebook/01-Introduction.ipynb)\n",
    "1. [Raw Dataset](https://data301.calpolydatascience.org/user/chazalex/notebooks/finalproj/notebook/02-Raw.ipynb)\n",
    "2. [Tidy Data](https://data301.calpolydatascience.org/user/chazalex/notebooks/finalproj/notebook/03-Tidy.ipynb)\n",
    "3. [Exploratory Data Analysis](https://data301.calpolydatascience.org/user/chazalex/notebooks/finalproj/notebook/04-EDA.ipynb)\n",
    "4. [Modeling Results](https://data301.calpolydatascience.org/user/chazalex/notebooks/finalproj/notebook/05-Modeling.ipynb)\n",
    "5. [Presentation](https://data301.calpolydatascience.org/user/chazalex/notebooks/finalproj/notebook/06-Presentation.ipynb)"
   ]
  },
  {
   "cell_type": "markdown",
   "metadata": {},
   "source": [
    "## Lessons"
   ]
  },
  {
   "cell_type": "markdown",
   "metadata": {},
   "source": [
    "Understand the dataset before doing anything.\n",
    "* Know how the data is logged and what must be done to make sense of it.\n",
    "* Know the size of every column and table that you plan to use.\n",
    "\n",
    "Understand the tools before doing anything significant.\n",
    "* Know the modules that you plan to use.\n",
    "    - Make sure they work for your purposes.\n",
    "    - Practice before applying.\n",
    "* Don't change modules half way through.\n",
    "* Don't program for multiple sets of modules.\n",
    "    \n",
    "Manage time with difficulties/roadblocks in mind. (However, thinking it through first will mitigate these.)\n",
    "* New tools require significant time to learn before using.\n",
    "* Start early.\n",
    "\n",
    "Seek help early.\n",
    "\n",
    "Document everything.\n",
    "* Version control to catalog mistakes and failures."
   ]
  },
  {
   "cell_type": "code",
   "execution_count": null,
   "metadata": {
    "collapsed": true
   },
   "outputs": [],
   "source": []
  }
 ],
 "metadata": {
  "kernelspec": {
   "display_name": "Python 3",
   "language": "python",
   "name": "python3"
  },
  "language_info": {
   "codemirror_mode": {
    "name": "ipython",
    "version": 3
   },
   "file_extension": ".py",
   "mimetype": "text/x-python",
   "name": "python",
   "nbconvert_exporter": "python",
   "pygments_lexer": "ipython3",
   "version": "3.5.2"
  }
 },
 "nbformat": 4,
 "nbformat_minor": 2
}
