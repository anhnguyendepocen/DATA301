{
 "cells": [
  {
   "cell_type": "markdown",
   "metadata": {},
   "source": [
    "# Abstract"
   ]
  },
  {
   "cell_type": "markdown",
   "metadata": {},
   "source": [
    "The purpose of this project is to explore the relationship between self-perception and lifestyle behaviors based on mobile phone usage. Using the location of an individual, I characterize how often the individual was home opposed to how often they went out. By analyzing their self-perceptive surveys, I hope to explore a meaningful relationship between how often someone is outside and how positively someone perceives oneself."
   ]
  },
  {
   "cell_type": "markdown",
   "metadata": {},
   "source": [
    "# Description"
   ]
  },
  {
   "cell_type": "markdown",
   "metadata": {},
   "source": [
    "The data used in this project was collected in an MIT experiment as described below:\n",
    "\n",
    ">The experiment was designed to study (a) how people make decisions, with emphasis on the social aspects involved, and (b) how we can empower people to make better decisions using personal and social tools. This dataset was collected by Nadav Aharony, Wei Pan, Cory Ip, Inas Khayal, and Alex Pentland in 2011.\n",
    "\n",
    ">The subjects were members of a young-family residential living community adjacent to a major research university in North America. All members of the community are couples, and at least one of the members is affiliated with the university. The community is composed of over 400 residents, approximately half whom have children. A pilot phase of 55 participants was launched in March 2010. In September 2010, phase two of the study included 130 participants, approximately 64 families. Participants were selected out of approximately 200 applicants in a way that would achieve a representative sample of the community and sub-communities"
   ]
  },
  {
   "cell_type": "markdown",
   "metadata": {},
   "source": [
    "# Index"
   ]
  },
  {
   "cell_type": "markdown",
   "metadata": {},
   "source": [
    "0. [Introduction](https://data301.calpolydatascience.org/user/chazalex/notebooks/finalproj/notebook/01-Introduction.ipynb):\n",
    "    Goal of project as well as high-level description and citations of dataset.\n",
    "1. [Raw Dataset](https://data301.calpolydatascience.org/user/chazalex/notebooks/finalproj/notebook/02-Raw.ipynb):\n",
    "    Profile of the files and columns in the raw dataset.\n",
    "2. [Tidy Data](https://data301.calpolydatascience.org/user/chazalex/notebooks/finalproj/notebook/03-Tidy.ipynb):\n",
    "    Dataset cleaned and transformed into tidy and relevant format.\n",
    "3. [Exploratory Data Analysis](https://data301.calpolydatascience.org/user/chazalex/notebooks/finalproj/notebook/04-EDA.ipynb):\n",
    "    Dataset explored through through visualizations.\n",
    "4. [Modeling Results](https://data301.calpolydatascience.org/user/chazalex/notebooks/finalproj/notebook/05-Modeling.ipynb):\n",
    "    Dataset is modeled for predictive qualities.\n",
    "5. [Presentation](https://data301.calpolydatascience.org/user/chazalex/notebooks/finalproj/notebook/06-Presentation.ipynb):\n",
    "    Explores questions through these sequential patterns of thinking."
   ]
  },
  {
   "cell_type": "markdown",
   "metadata": {},
   "source": [
    "# Citations"
   ]
  },
  {
   "cell_type": "markdown",
   "metadata": {},
   "source": [
    "### MIT Reality Commons: Friends and Family Dataset\n",
    "SocialfMRI: Investigating and shaping social mechanisms in the real world, Nadav Aharony, Wei Pan, Cory Ip,Inas Khayal, Alex Pentland, Pervasive and Mobile Computing, Volume 7, Issue 6, December 2011, Pages 643-659\n",
    "\n",
    "http://realitycommons.media.mit.edu/friendsdataset.html"
   ]
  },
  {
   "cell_type": "markdown",
   "metadata": {
    "collapsed": true
   },
   "source": [
    "---\n",
    "<!--NAVIGATION-->\n",
    "< [Presentation](https://data301.calpolydatascience.org/user/chazalex/notebooks/finalproj/notebook/06-Presentation.ipynb) | [Raw Dataset](https://data301.calpolydatascience.org/user/chazalex/notebooks/finalproj/notebook/02-Raw.ipynb) >"
   ]
  },
  {
   "cell_type": "code",
   "execution_count": null,
   "metadata": {
    "collapsed": true
   },
   "outputs": [],
   "source": []
  }
 ],
 "metadata": {
  "kernelspec": {
   "display_name": "Python 3",
   "language": "python",
   "name": "python3"
  },
  "language_info": {
   "codemirror_mode": {
    "name": "ipython",
    "version": 3
   },
   "file_extension": ".py",
   "mimetype": "text/x-python",
   "name": "python",
   "nbconvert_exporter": "python",
   "pygments_lexer": "ipython3",
   "version": "3.5.2"
  }
 },
 "nbformat": 4,
 "nbformat_minor": 2
}
