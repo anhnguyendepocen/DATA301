{
 "cells": [
  {
   "cell_type": "markdown",
   "metadata": {},
   "source": [
    "<head> <style type=test.css></style> </head>"
   ]
  },
  {
   "cell_type": "markdown",
   "metadata": {},
   "source": [
    "   # Welcome!"
   ]
  },
  {
   "cell_type": "markdown",
   "metadata": {},
   "source": [
    "### Projects"
   ]
  },
  {
   "cell_type": "markdown",
   "metadata": {},
   "source": [
    "### Music"
   ]
  },
  {
   "cell_type": "markdown",
   "metadata": {},
   "source": [
    "### Vision"
   ]
  },
  {
   "cell_type": "markdown",
   "metadata": {},
   "source": [
    "I plan to focus on developing and modernizing infrastructure. As an effect, these projects should have an aspect which positively incentivize sustainable practices. That is, they might encourage healthy habits, resolve environmental issues, or promote education. The idea hinges on supporting people's *want* to do good. It will empower them as they see feedback for their sustainable deeds and will create a greater sense of community as others see those same deeds done."
   ]
  },
  {
   "cell_type": "markdown",
   "metadata": {},
   "source": [
    "### Inspiration"
   ]
  },
  {
   "cell_type": "markdown",
   "metadata": {},
   "source": [
    "The table below uses javascript to rotate inspirational quotes from a database of authors that I've read."
   ]
  },
  {
   "cell_type": "markdown",
   "metadata": {},
   "source": [
    "<table>\n",
    "<tr>\n",
    "<th> [Author's Name1] </th>\n",
    "<th> [Author's Name2] </th>\n",
    "</tr>\n",
    "<tr>\n",
    "<td> >[Author's Quote1] </td>\n",
    "<td> >[Author's Quote2] </td>\n",
    "</table>"
   ]
  },
  {
   "cell_type": "markdown",
   "metadata": {},
   "source": [
    "### Sci-Fi World Rankings\n",
    "1. Stargate: *SG-1*\n",
    "2. Douglas's Hitchhiker's Universe\n",
    "2. Star Trek: Deep Space 9\n",
    "3. Asimov's Galactic Empire: Foundation Era\n",
    "3. Star Trek: The Next Generation\n",
    "4. Stargate: Atlantis\n",
    "5. Star Trek: Voyager\n",
    "6. Battlestar Galactica\n",
    "8. Asimov's Galactic Empire: Empire Era\n",
    "7. Star Trek: Enterprise"
   ]
  },
  {
   "cell_type": "code",
   "execution_count": null,
   "metadata": {
    "collapsed": true
   },
   "outputs": [],
   "source": []
  }
 ],
 "metadata": {
  "kernelspec": {
   "display_name": "Python 3",
   "language": "python",
   "name": "python3"
  },
  "language_info": {
   "codemirror_mode": {
    "name": "ipython",
    "version": 3
   },
   "file_extension": ".py",
   "mimetype": "text/x-python",
   "name": "python",
   "nbconvert_exporter": "python",
   "pygments_lexer": "ipython3",
   "version": "3.5.2"
  }
 },
 "nbformat": 4,
 "nbformat_minor": 2
}
